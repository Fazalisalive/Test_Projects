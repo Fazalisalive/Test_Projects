{
 "cells": [
  {
   "cell_type": "markdown",
   "metadata": {},
   "source": [
    "# File Handling in Python"
   ]
  },
  {
   "cell_type": "raw",
   "metadata": {},
   "source": [
    "1. Python treats file differently as text or binary and this is important. \n",
    "2. Each line of code includes a sequence of characters and they form text file. \n",
    "3. Each line of a file is terminated with a special character, called the EOL or End of Line \n",
    "    characters like comma {,} or newline character. \n",
    "4. It ends the current line and tells the interpreter a new one has begun. \n",
    "\n",
    "Let’s start with Reading and Writing files."
   ]
  },
  {
   "cell_type": "raw",
   "metadata": {},
   "source": [
    "open ( ) will return a file object.\n",
    "\n",
    "the syntax being: open(filename, mode)"
   ]
  },
  {
   "cell_type": "raw",
   "metadata": {},
   "source": [
    "“ r “, for reading.\n",
    "“ w “, for writing.\n",
    "“ a “, for appending.\n",
    "“ r+ “, for both reading and writing"
   ]
  },
  {
   "cell_type": "code",
   "execution_count": 46,
   "metadata": {},
   "outputs": [
    {
     "name": "stdout",
     "output_type": "stream",
     "text": [
      "['The', 'expert', 'model', 'is', 'a', 'large,', 'connected', 'graph', 'of', 'everything', 'you', 'want', 'the', 'learners', 'to', 'know.', 'As', 'the', 'name', 'suggests,', 'you', 'have', 'an', 'expert', 'on', 'the', 'topic', '--', 'or', 'experts', 'on', 'topics', '--', 'to', 'create', 'the', 'model.', 'This', 'model', 'is', 'static.', 'The', 'expert', 'model', 'only', 'changes', 'when', 'the', 'scope', 'of', 'learning', 'outcomes', 'change.', 'Or', 'when', 'problems', 'and', 'opportunities', 'to', 'refine', 'the', 'adaptive', 'learning', 'system', 'arise.']\n",
      "['Fazal', 'The', 'expert', 'model', 'is', 'a', 'large,', 'connected', 'graph', 'of', 'everything', 'you', 'want', 'the', 'learners', 'to', 'know.', 'As', 'the', 'name', 'suggests,', 'you', 'have', 'an', 'expert', 'on', 'the', 'topic', '--', 'or', 'experts', 'on', 'topics', '--', 'to', 'create', 'the', 'model.', 'This', 'model', 'is', 'static.', 'The', 'expert', 'model', 'only', 'changes', 'when', 'the', 'scope', 'of', 'learning', 'outcomes', 'change.', 'Or', 'when', 'problems', 'and', 'opportunities', 'to', 'refine', 'the', 'adaptive', 'learning', 'system', 'arise.']\n"
     ]
    }
   ],
   "source": [
    "# a file named \"geek\", will be opened with the reading mode. \n",
    "file = open('E:/Development/PIAIC/Test_Projects/fazaltextfile.txt', 'r') \n",
    "# This will print every line one by one in the file \n",
    "dictionary = []\n",
    "for each in file:\n",
    "    if each !='the':\n",
    "        \n",
    "        dictionary = each.split(' ')\n",
    "        print(dictionary)\n",
    "        dictionary.insert(0,\"Fazal\")\n",
    "        print(dictionary)\n",
    "        "
   ]
  },
  {
   "cell_type": "code",
   "execution_count": 79,
   "metadata": {},
   "outputs": [
    {
     "name": "stdout",
     "output_type": "stream",
     "text": [
      "Expert models perform better when each node is small and narrowly defined. For example, each skill in Bloom's taxonomy -- recognition, understanding, application, analysis, synthesis, and evaluation -- could each be its own node in the expert model. The combination of two underlying skills should also be a separate node.Hello at the endHello at the endHello at the endHello at the end Hello at the end\n"
     ]
    }
   ],
   "source": [
    "file = open('E:/Development/PIAIC/Test_Projects/fazaltextfile.txt', 'r')\n",
    "\n",
    "for each in file:\n",
    "    print(each)\n",
    "    "
   ]
  },
  {
   "cell_type": "markdown",
   "metadata": {},
   "source": [
    "# OS Module"
   ]
  },
  {
   "cell_type": "code",
   "execution_count": 1,
   "metadata": {},
   "outputs": [
    {
     "name": "stdout",
     "output_type": "stream",
     "text": [
      "nt\n",
      "<module 'abc' from 'C:\\\\Users\\\\FZR\\\\Anaconda3\\\\lib\\\\abc.py'>\n",
      "<built-in function abort>\n",
      "<built-in function access>\n",
      "/\n",
      "<built-in function chdir>\n",
      "<built-in function chdir>\n"
     ]
    }
   ],
   "source": [
    "import os\n",
    "name = os.name\n",
    "print(name)\n",
    "\n",
    "name = os.abc\n",
    "print(name)\n",
    "\n",
    "name = os.abort\n",
    "print(name)\n",
    "\n",
    "name = os.access\n",
    "print(name)\n",
    "\n",
    "name = os.altsep\n",
    "print(name)\n",
    "\n",
    "name = os.chdir\n",
    "print(name)\n",
    "\n",
    "#name = os.rmdir(\"E:/Development/PIAIC/Test_Projects/New folder\")\n",
    "print(name)"
   ]
  },
  {
   "cell_type": "code",
   "execution_count": 86,
   "metadata": {},
   "outputs": [
    {
     "name": "stdout",
     "output_type": "stream",
     "text": [
      "Windows\n"
     ]
    }
   ],
   "source": [
    "this_sys = os.name\n",
    "if this_sys == \"nt\":\n",
    "    print (\"Windows\")\n",
    "elif this_sys == \"posix\":\n",
    "    print (\"POSIX\")\n",
    "elif this_sys == \"os2\":\n",
    "    print (\"Really??!\")"
   ]
  },
  {
   "cell_type": "code",
   "execution_count": 25,
   "metadata": {},
   "outputs": [
    {
     "name": "stdout",
     "output_type": "stream",
     "text": [
      "this is my file!this is my file!this is my file!this is my file!this is my file!this is my file note it!this is my file note it!this is my file note it!this is my file!this is my file!this is my file!this is my file!this is my file!this is my file!this is my file!\n"
     ]
    }
   ],
   "source": [
    "with open(\"HelloFile.txt\", \"r+\") as file:\n",
    "    #file.write(\"this is my file!\")\n",
    "    #print(file.readline(16), end='\\n', flush=True)\n",
    "    content = file.read()\n",
    "    print(content)"
   ]
  },
  {
   "cell_type": "markdown",
   "metadata": {},
   "source": [
    "# Modules"
   ]
  },
  {
   "cell_type": "code",
   "execution_count": 27,
   "metadata": {},
   "outputs": [],
   "source": [
    "# %load maths.py\n",
    "def add(a,b):\n",
    "    return a+b\n",
    "\n",
    "def sub(a,b):\n",
    "    return a-b\n",
    "\n",
    "def mul(a,b):\n",
    "    return a*b\n",
    "\n",
    "def mod(a,b):\n",
    "    return a%b\n",
    "\n",
    "def div(a,b):\n",
    "    return a/b"
   ]
  },
  {
   "cell_type": "code",
   "execution_count": 29,
   "metadata": {},
   "outputs": [
    {
     "name": "stdout",
     "output_type": "stream",
     "text": [
      "5\n",
      "-1\n",
      "6\n",
      "0.6666666666666666\n",
      "2\n"
     ]
    }
   ],
   "source": [
    "import maths as m\n",
    "\n",
    "print(m.add(2,3))\n",
    "print(m.sub(2,3))\n",
    "print(m.mul(2,3))\n",
    "print(m.div(2,3))\n",
    "print(m.mod(2,3))\n"
   ]
  },
  {
   "cell_type": "markdown",
   "metadata": {},
   "source": [
    "# CSV Files"
   ]
  },
  {
   "cell_type": "code",
   "execution_count": 30,
   "metadata": {},
   "outputs": [],
   "source": [
    "import csv"
   ]
  },
  {
   "cell_type": "code",
   "execution_count": 40,
   "metadata": {},
   "outputs": [],
   "source": [
    "# Create new file and Write in it\n",
    "\n",
    "with open(\"xyz.csv\", \"w\", newline=\"\") as file:\n",
    "    filewriter = csv.writer(file)\n",
    "    filewriter.writerow([\"2020\", \"WC20\", \"ENG\"])\n",
    "    "
   ]
  },
  {
   "cell_type": "code",
   "execution_count": 41,
   "metadata": {},
   "outputs": [
    {
     "name": "stdout",
     "output_type": "stream",
     "text": [
      "['2020', 'WC20', 'ENG']\n"
     ]
    }
   ],
   "source": [
    "# Read and print a file\n",
    "\n",
    "with open(\"xyz.csv\") as file:\n",
    "    filewriter = csv.reader(file)\n",
    "    for w in filewriter:\n",
    "        print(w)"
   ]
  },
  {
   "cell_type": "code",
   "execution_count": 42,
   "metadata": {},
   "outputs": [],
   "source": [
    "# Append in an exsisting file \n",
    "\n",
    "with open(\"xyz.csv\", \"a\", newline=\"\") as file:\n",
    "    filewriter = csv.writer(file)\n",
    "    filewriter.writerow([\"2021\", \"WC21\", \"PAK\"])"
   ]
  },
  {
   "cell_type": "markdown",
   "metadata": {},
   "source": [
    "# Json Files"
   ]
  },
  {
   "cell_type": "code",
   "execution_count": 44,
   "metadata": {},
   "outputs": [],
   "source": [
    "import json"
   ]
  },
  {
   "cell_type": "code",
   "execution_count": 47,
   "metadata": {},
   "outputs": [],
   "source": [
    "# Writing List to a Json File\n",
    "\n",
    "with open(\"xyz.json\", \"w\") as file:\n",
    "    json.dump([11,22,33,44,55,66], file)\n",
    "    \n",
    "    "
   ]
  },
  {
   "cell_type": "code",
   "execution_count": 50,
   "metadata": {},
   "outputs": [
    {
     "name": "stdout",
     "output_type": "stream",
     "text": [
      "[11, 22, 33, 44, 55, 66]\n"
     ]
    }
   ],
   "source": [
    "# Reading a List from a Json File\n",
    "\n",
    "with open(\"xyz.json\", \"r\") as file:\n",
    "    content = json.load(file)\n",
    "    print(content)"
   ]
  },
  {
   "cell_type": "code",
   "execution_count": 51,
   "metadata": {},
   "outputs": [],
   "source": [
    "# Appending List to a Json File\n",
    "\n",
    "with open(\"xyz.json\", \"a\") as file:\n",
    "    json.dump([77,88,99,], file)\n",
    "        "
   ]
  },
  {
   "cell_type": "markdown",
   "metadata": {},
   "source": [
    "# Regular Expression"
   ]
  },
  {
   "cell_type": "code",
   "execution_count": 54,
   "metadata": {},
   "outputs": [
    {
     "name": "stdout",
     "output_type": "stream",
     "text": [
      "<re.Match object; span=(0, 17), match='The rain in Spain'>\n"
     ]
    }
   ],
   "source": [
    "import re\n",
    "\n",
    "txt = \"The rain in Spain\"\n",
    "x = re.search(\"^The.*Spain$\", txt)\n",
    "\n",
    "print(x)"
   ]
  },
  {
   "cell_type": "code",
   "execution_count": 55,
   "metadata": {},
   "outputs": [
    {
     "name": "stdout",
     "output_type": "stream",
     "text": [
      "['ai', 'ai']\n"
     ]
    }
   ],
   "source": [
    "import re\n",
    "\n",
    "txt = \"The rain in Spain\"\n",
    "x = re.findall(\"ai\", txt)\n",
    "print(x)"
   ]
  },
  {
   "cell_type": "code",
   "execution_count": 56,
   "metadata": {},
   "outputs": [
    {
     "name": "stdout",
     "output_type": "stream",
     "text": [
      "[]\n"
     ]
    }
   ],
   "source": [
    "import re\n",
    "\n",
    "txt = \"The rain in Spain\"\n",
    "x = re.findall(\"Portugal\", txt)\n",
    "print(x)"
   ]
  },
  {
   "cell_type": "code",
   "execution_count": 57,
   "metadata": {},
   "outputs": [
    {
     "name": "stdout",
     "output_type": "stream",
     "text": [
      "The first white-space character is located in position: 3\n"
     ]
    }
   ],
   "source": [
    "import re\n",
    "\n",
    "txt = \"The rain in Spain\"\n",
    "x = re.search(\"\\s\", txt)\n",
    "\n",
    "print(\"The first white-space character is located in position:\", x.start())"
   ]
  },
  {
   "cell_type": "code",
   "execution_count": 58,
   "metadata": {},
   "outputs": [
    {
     "name": "stdout",
     "output_type": "stream",
     "text": [
      "None\n"
     ]
    }
   ],
   "source": [
    "import re\n",
    "\n",
    "txt = \"The rain in Spain\"\n",
    "x = re.search(\"Portugal\", txt)\n",
    "print(x)"
   ]
  },
  {
   "cell_type": "code",
   "execution_count": 59,
   "metadata": {},
   "outputs": [
    {
     "name": "stdout",
     "output_type": "stream",
     "text": [
      "['The', 'rain', 'in', 'Spain']\n"
     ]
    }
   ],
   "source": [
    "import re\n",
    "\n",
    "txt = \"The rain in Spain\"\n",
    "x = re.split(\"\\s\", txt)\n",
    "print(x)"
   ]
  },
  {
   "cell_type": "code",
   "execution_count": null,
   "metadata": {},
   "outputs": [],
   "source": []
  }
 ],
 "metadata": {
  "kernelspec": {
   "display_name": "Python 3",
   "language": "python",
   "name": "python3"
  },
  "language_info": {
   "codemirror_mode": {
    "name": "ipython",
    "version": 3
   },
   "file_extension": ".py",
   "mimetype": "text/x-python",
   "name": "python",
   "nbconvert_exporter": "python",
   "pygments_lexer": "ipython3",
   "version": "3.7.3"
  }
 },
 "nbformat": 4,
 "nbformat_minor": 2
}
