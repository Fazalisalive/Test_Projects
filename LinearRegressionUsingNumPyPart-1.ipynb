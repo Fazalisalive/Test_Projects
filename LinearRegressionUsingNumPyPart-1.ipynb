{
 "cells": [
  {
   "cell_type": "code",
   "execution_count": 7,
   "metadata": {},
   "outputs": [
    {
     "name": "stdout",
     "output_type": "stream",
     "text": [
      "Estimated doefficients: \n",
      "b_0 = -7.5 \n",
      "b_1 = 137.72727272727272\n"
     ]
    },
    {
     "data": {
      "image/png": "[encoded data removed]",
      "text/plain": [
       "<Figure size 432x288 with 1 Axes>"
      ]
     },
     "metadata": {
      "needs_background": "light"
     },
     "output_type": "display_data"
    }
   ],
   "source": [
    "#import the required libraries\n",
    "import numpy as np\n",
    "import matplotlib.pyplot as plt\n",
    "\n",
    "#Define the function required\n",
    "def estimate_coefficients(x,y):\n",
    "    # size of the database Or number of observations/points\n",
    "    n = np.size(x)\n",
    "    \n",
    "    #mean of x and y\n",
    "    #Since we are using numpy just call mean on numpy is sufficient\n",
    "    mean_x, mean_y = np.mean(x), np.mean(y)\n",
    "    \n",
    "    #Calculating cross-deviation and deviation about x\n",
    "    ss_xy = np.sum(y*x - n*mean_y*mean_x)\n",
    "    ss_xx = np.sum(x*x - n*mean_x*mean_x)\n",
    "    \n",
    "    #Calculating regression coefficients\n",
    "    b_1 = ss_xy / ss_xx\n",
    "    b_0 = mean_y - b_1*mean_x\n",
    "    \n",
    "    return(b_0, b_1)\n",
    "    # x,y are the location of points on graph\n",
    "    # color of the points change it to red blue orange play around\n",
    "\n",
    "def plot_regression_line(x, y, b):\n",
    "    # plotting the points as per dataset on a graph\n",
    "    plt.scatter(x, y, color = \"m\", marker = \"o\", s = 30)\n",
    "    \n",
    "    # predicted response vector\n",
    "    y_pred = b[0] + b[1]*x\n",
    "    \n",
    "    # Ploting the regression line\n",
    "    plt.plot(x, y_pred, color = \"g\")\n",
    "    \n",
    "    # putting lables for x and y axis\n",
    "    plt.xlabel('Size')\n",
    "    plt.ylabel('Cost')\n",
    "    \n",
    "    # function to show p;otted graph\n",
    "    plt.show()\n",
    "\n",
    "\n",
    "\n",
    "    \n",
    "def main():\n",
    "    # Datasets which we create\n",
    "    x = np.array([1, 2, 3, 4, 5, 6, 7, 8, 9, 10])\n",
    "    y = np.array([300, 350, 500, 700, 800, 850, 900, 900, 1000, 1200])\n",
    "    \n",
    "    # estimating coefficients\n",
    "    b = estimate_coefficients(x, y)\n",
    "    print(\"Estimated doefficients: \\nb_0 = {} \\nb_1 = {}\".format(b[0], b[1]))\n",
    "    \n",
    "    # plotting regression line\n",
    "    plot_regression_line(x, y, b)\n",
    "    \n",
    "if __name__ == \"__main__\":\n",
    "    main()"
   ]
  },
  {
   "cell_type": "code",
   "execution_count": null,
   "metadata": {},
   "outputs": [],
   "source": []
  }
 ],
 "metadata": {
  "kernelspec": {
   "display_name": "Python 3",
   "language": "python",
   "name": "python3"
  },
  "language_info": {
   "codemirror_mode": {
    "name": "ipython",
    "version": 3
   },
   "file_extension": ".py",
   "mimetype": "text/x-python",
   "name": "python",
   "nbconvert_exporter": "python",
   "pygments_lexer": "ipython3",
   "version": "3.7.3"
  }
 },
 "nbformat": 4,
 "nbformat_minor": 2
}
