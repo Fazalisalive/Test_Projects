{
 "cells": [
  {
   "cell_type": "markdown",
   "metadata": {},
   "source": [
    "# Machine Learning"
   ]
  },
  {
   "cell_type": "markdown",
   "metadata": {},
   "source": [
    "# Linear Algebra"
   ]
  },
  {
   "cell_type": "markdown",
   "metadata": {},
   "source": [
    "# A. Vectors"
   ]
  },
  {
   "cell_type": "markdown",
   "metadata": {},
   "source": [
    "- Direction\n",
    "    \n",
    "- Leangth/Magnitude\n",
    "\n",
    "Vector Operations Using Modules:\n",
    "\n",
    "1. Addition\n",
    "2. Subtraction\n",
    "3. Scalar Multiplication\n",
    "4. Dot Product"
   ]
  },
  {
   "cell_type": "code",
   "execution_count": null,
   "metadata": {},
   "outputs": [],
   "source": [
    "import sys\n",
    "import maths as m\n",
    "\n",
    "v = []\n",
    "u = []\n",
    "\n",
    "n = int(input(\"Enter number of elements you want to enter into vector: \"))\n",
    "\n",
    "print(\"Enter elements of vector u: \")\n",
    "for i in range(n):\n",
    "    elem = int(input(\"Enter element: \"))\n",
    "    u.append(elem)\n",
    "    \n",
    "print(\"Enter elements of vector v: \")\n",
    "for i in range(n):\n",
    "    elem = int(input(\"Enter element: \"))\n",
    "    v.append(elem)\n",
    "print(\"print vector v = \", v)\n",
    "\n",
    "while True:\n",
    "    print(\"Select vector operation: \")\n",
    "    print(\"1: for Addition\")\n",
    "    print(\"2: for Subtraction\")\n",
    "    print(\"3: for Scalar Multiplication\")\n",
    "    print(\"4: for Dot Product\")\n",
    "    print(\"5: for Exit\")\n",
    "    \n",
    "    chOption = int(input(\"Enter Choice: \"))\n",
    "    \n",
    "    if(chOption == 1):\n",
    "        print(\"Addition of the vectors v,u is: \", m.addVec(u,v))\n",
    "        \n",
    "    elif (chOption == 2):\n",
    "        print(\"Subtraction of the vectors v,u is: \", m.subVec(u,v))\n",
    "    \n",
    "    elif (chOption == 3):\n",
    "        a = int(input(\"To perform scalar Multiplication please enter value of scal a: \"))\n",
    "        print(a)\n",
    "        print(\"Scalar Multiplication of the vectors v,u is: \", m.subVec(u,a))\n",
    "        \n",
    "    elif (chOption == 4):\n",
    "        print(\"Dot Product of the vectors v,u is: \", m.dotVec(u,v))\n",
    "    else :\n",
    "        sys.exit()"
   ]
  },
  {
   "cell_type": "markdown",
   "metadata": {},
   "source": [
    "# B. Complex Numbers"
   ]
  },
  {
   "cell_type": "code",
   "execution_count": 1,
   "metadata": {},
   "outputs": [
    {
     "name": "stdout",
     "output_type": "stream",
     "text": [
      "<class 'complex'>\n",
      "(1+2j)\n",
      "<class 'complex'>\n",
      "(2+3j)\n"
     ]
    }
   ],
   "source": [
    "c = 1 + 2j\n",
    "print(type(c))\n",
    "print(c)\n",
    "\n",
    "c1 = complex(2,3)\n",
    "print(type(c1))\n",
    "print(c1)"
   ]
  },
  {
   "cell_type": "code",
   "execution_count": 5,
   "metadata": {},
   "outputs": [
    {
     "name": "stdout",
     "output_type": "stream",
     "text": [
      "Real Part:  1.0\n",
      "Imagenary Part:  2.0\n",
      "Complex Part:  (1-2j)\n"
     ]
    }
   ],
   "source": [
    "print(\"Real Part: \", c.real)\n",
    "print(\"Imagenary Part: \", c.imag)\n",
    "print(\"Complex Part: \", c.conjugate())"
   ]
  },
  {
   "cell_type": "markdown",
   "metadata": {},
   "source": [
    "# Complex Numbers Mathematical Calculations"
   ]
  },
  {
   "cell_type": "code",
   "execution_count": 9,
   "metadata": {},
   "outputs": [
    {
     "name": "stdout",
     "output_type": "stream",
     "text": [
      "Addition = (4+5j)\n",
      "Subtraction = -1j\n",
      "Multiplication = (-2+10j)\n",
      "Division = (1.25+0.25j)\n"
     ]
    }
   ],
   "source": [
    "print('Addition =', c + c1)\n",
    "print('Subtraction =', c - c1)\n",
    "print('Multiplication =', c * c1)\n",
    "print('Division =', c1 / c)"
   ]
  },
  {
   "cell_type": "code",
   "execution_count": 10,
   "metadata": {},
   "outputs": [
    {
     "name": "stdout",
     "output_type": "stream",
     "text": [
      "2 + 2j Phase = 0.7853981633974483\n",
      "Phase in Degrees = 45.0\n",
      "-2 - 2j Phase = -2.356194490192345 radians. Degrees = -135.0\n",
      "Complex number phase using math.atan2() = 1.1071487177940904\n"
     ]
    }
   ],
   "source": [
    "import cmath, math, numpy\n",
    "\n",
    "c = 2 + 2j\n",
    "\n",
    "# phase\n",
    "phase = cmath.phase(c)\n",
    "print('2 + 2j Phase =', phase)\n",
    "print('Phase in Degrees =', numpy.degrees(phase))\n",
    "print('-2 - 2j Phase =', cmath.phase(-2 - 2j), 'radians. Degrees =', numpy.degrees(cmath.phase(-2 - 2j)))\n",
    "\n",
    "# we can get phase using math.atan2() function too\n",
    "print('Complex number phase using math.atan2() =', math.atan2(2, 1))"
   ]
  },
  {
   "cell_type": "markdown",
   "metadata": {},
   "source": [
    "# Polar and Rectangular Coordinates"
   ]
  },
  {
   "cell_type": "code",
   "execution_count": 12,
   "metadata": {},
   "outputs": [
    {
     "name": "stdout",
     "output_type": "stream",
     "text": [
      "Modulus =  2.23606797749979\n",
      "Phase =  1.1071487177940904\n",
      "Polar =  (2.23606797749979, 1.1071487177940904)\n",
      "Rectangular Coordinates =  (1.0000000000000002+2j)\n"
     ]
    }
   ],
   "source": [
    "c = 1 + 2j\n",
    "\n",
    "modulus = abs(c)\n",
    "phase = cmath.phase(c)\n",
    "polar = cmath.polar(c)\n",
    "\n",
    "print(\"Modulus = \", modulus)\n",
    "print(\"Phase = \", phase)\n",
    "print(\"Polar = \", polar)\n",
    "\n",
    "print(\"Rectangular Coordinates = \", cmath.rect(modulus,phase))"
   ]
  },
  {
   "cell_type": "markdown",
   "metadata": {},
   "source": [
    "# cmath module constants"
   ]
  },
  {
   "cell_type": "code",
   "execution_count": 13,
   "metadata": {},
   "outputs": [
    {
     "name": "stdout",
     "output_type": "stream",
     "text": [
      "π = 3.141592653589793\n",
      "e = 2.718281828459045\n",
      "tau = 6.283185307179586\n",
      "Positive infinity = inf\n",
      "Positive Complex infinity = infj\n",
      "NaN = nan\n",
      "NaN Complex = nanj\n"
     ]
    }
   ],
   "source": [
    "print('π =', cmath.pi)\n",
    "print('e =', cmath.e)\n",
    "print('tau =', cmath.tau)\n",
    "print('Positive infinity =', cmath.inf)\n",
    "print('Positive Complex infinity =', cmath.infj)\n",
    "print('NaN =', cmath.nan)\n",
    "print('NaN Complex =', cmath.nanj)"
   ]
  },
  {
   "cell_type": "markdown",
   "metadata": {},
   "source": [
    "# Power and Log Functions"
   ]
  },
  {
   "cell_type": "code",
   "execution_count": 14,
   "metadata": {},
   "outputs": [
    {
     "name": "stdout",
     "output_type": "stream",
     "text": [
      "e^c = (-3.074932320639359+6.71884969742825j)\n",
      "log2(c) = (1.5000000000000002+1.1330900354567985j)\n",
      "log10(c) = (0.4515449934959718+0.3410940884604603j)\n",
      "sqrt(c) = (1.5537739740300374+0.6435942529055826j)\n"
     ]
    }
   ],
   "source": [
    "c = 2 + 2j\n",
    "print('e^c =', cmath.exp(c))\n",
    "print('log2(c) =', cmath.log(c, 2))\n",
    "print('log10(c) =', cmath.log10(c))\n",
    "print('sqrt(c) =', cmath.sqrt(c))"
   ]
  },
  {
   "cell_type": "markdown",
   "metadata": {},
   "source": [
    "# Trigonometric Functions"
   ]
  },
  {
   "cell_type": "code",
   "execution_count": 15,
   "metadata": {},
   "outputs": [
    {
     "name": "stdout",
     "output_type": "stream",
     "text": [
      "arc sine = (0.7542491446980459+1.7343245214879666j)\n",
      "arc cosine = (0.8165471820968505-1.7343245214879666j)\n",
      "arc tangent = (1.311223269671635+0.2388778612568591j)\n",
      "sine = (3.4209548611170133-1.5093064853236156j)\n",
      "cosine = (-1.5656258353157435-3.2978948363112366j)\n",
      "tangent = (-0.028392952868232294+1.0238355945704727j)\n"
     ]
    }
   ],
   "source": [
    "c = 2 + 2j\n",
    "print('arc sine =', cmath.asin(c))\n",
    "print('arc cosine =', cmath.acos(c))\n",
    "print('arc tangent =', cmath.atan(c))\n",
    "\n",
    "print('sine =', cmath.sin(c))\n",
    "print('cosine =', cmath.cos(c))\n",
    "print('tangent =', cmath.tan(c))"
   ]
  },
  {
   "cell_type": "markdown",
   "metadata": {},
   "source": [
    "# Hyperbolic Functions"
   ]
  },
  {
   "cell_type": "code",
   "execution_count": 16,
   "metadata": {},
   "outputs": [
    {
     "name": "stdout",
     "output_type": "stream",
     "text": [
      "inverse hyperbolic sine = (1.7343245214879666+0.7542491446980459j)\n",
      "inverse hyperbolic cosine = (1.7343245214879666+0.8165471820968505j)\n",
      "inverse hyperbolic tangent = (0.2388778612568591+1.311223269671635j)\n",
      "hyperbolic sine = (-1.5093064853236156+3.4209548611170133j)\n",
      "hyperbolic cosine = (-1.5656258353157435+3.2978948363112366j)\n",
      "hyperbolic tangent = (1.0238355945704727-0.028392952868232294j)\n"
     ]
    }
   ],
   "source": [
    "c = 2 + 2j\n",
    "print('inverse hyperbolic sine =', cmath.asinh(c))\n",
    "print('inverse hyperbolic cosine =', cmath.acosh(c))\n",
    "print('inverse hyperbolic tangent =', cmath.atanh(c))\n",
    "\n",
    "print('hyperbolic sine =', cmath.sinh(c))\n",
    "print('hyperbolic cosine =', cmath.cosh(c))\n",
    "print('hyperbolic tangent =', cmath.tanh(c))"
   ]
  },
  {
   "cell_type": "markdown",
   "metadata": {},
   "source": [
    "# Classification Functions"
   ]
  },
  {
   "cell_type": "markdown",
   "metadata": {},
   "source": [
    "There are some miscellaneous functions to check if the complex number is finite, infinite or nan. There is also a function to check if two complex numbers are close."
   ]
  },
  {
   "cell_type": "code",
   "execution_count": 17,
   "metadata": {},
   "outputs": [
    {
     "name": "stdout",
     "output_type": "stream",
     "text": [
      "True\n",
      "False\n",
      "False\n",
      "True\n",
      "False\n",
      "False\n",
      "False\n",
      "True\n",
      "True\n",
      "False\n"
     ]
    }
   ],
   "source": [
    "print(cmath.isfinite(2 + 2j))  # True\n",
    "print(cmath.isfinite(cmath.inf + 2j))  # False\n",
    "\n",
    "print(cmath.isinf(2 + 2j))  # False\n",
    "print(cmath.isinf(cmath.inf + 2j))  # True\n",
    "print(cmath.isinf(cmath.nan + 2j))  # False\n",
    "\n",
    "\n",
    "print(cmath.isnan(2 + 2j))  # False\n",
    "print(cmath.isnan(cmath.inf + 2j))  # False\n",
    "print(cmath.isnan(cmath.nan + 2j))  # True\n",
    "\n",
    "print(cmath.isclose(2+2j, 2.01+1.9j, rel_tol=0.05))  # True\n",
    "print(cmath.isclose(2+2j, 2.01+1.9j, abs_tol=0.005))  # False"
   ]
  },
  {
   "cell_type": "code",
   "execution_count": null,
   "metadata": {},
   "outputs": [],
   "source": []
  }
 ],
 "metadata": {
  "kernelspec": {
   "display_name": "Python 3",
   "language": "python",
   "name": "python3"
  },
  "language_info": {
   "codemirror_mode": {
    "name": "ipython",
    "version": 3
   },
   "file_extension": ".py",
   "mimetype": "text/x-python",
   "name": "python",
   "nbconvert_exporter": "python",
   "pygments_lexer": "ipython3",
   "version": "3.7.3"
  }
 },
 "nbformat": 4,
 "nbformat_minor": 2
}
