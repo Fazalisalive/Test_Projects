{
 "cells": [
  {
   "cell_type": "markdown",
   "metadata": {},
   "source": [
    "# User Defined Functions"
   ]
  },
  {
   "cell_type": "code",
   "execution_count": 1,
   "metadata": {},
   "outputs": [
    {
     "name": "stdout",
     "output_type": "stream",
     "text": [
      "Pakistan\n",
      "Pakistani\n",
      "Love my country!\n"
     ]
    }
   ],
   "source": [
    "# Structured Programming\n",
    "def abc(): # Fuction Declaration\n",
    "    print(\"Pakistan\") # body start statement\n",
    "    print(\"Pakistani\") # Statement 2\n",
    "    print(\"Love my country!\") #body end statement\n",
    "    \n",
    "abc()"
   ]
  },
  {
   "cell_type": "markdown",
   "metadata": {},
   "source": [
    "# Default Function"
   ]
  },
  {
   "cell_type": "code",
   "execution_count": 2,
   "metadata": {},
   "outputs": [
    {
     "name": "stdout",
     "output_type": "stream",
     "text": [
      "Pakistan\n",
      "Pakistani\n",
      "Love my country!\n"
     ]
    }
   ],
   "source": [
    "# Structured Programming\n",
    "def abc(): # Fuction Declaration\n",
    "    print(\"Pakistan\") # body start statement\n",
    "    print(\"Pakistani\") # Statement 2\n",
    "    print(\"Love my country!\") #body end statement\n",
    "    \n",
    "abc()"
   ]
  },
  {
   "cell_type": "code",
   "execution_count": 5,
   "metadata": {},
   "outputs": [
    {
     "name": "stdout",
     "output_type": "stream",
     "text": [
      "\n",
      "    PIAIC Islamabad\n",
      "    Student id: 1\n",
      "    Name: Fazal Ur Rahman\n",
      "    Father's Name: Umar\n",
      "    Course: AIC\n",
      "    Timing: 12:00 PM to 4:00 PM\n",
      "    \n"
     ]
    },
    {
     "ename": "TypeError",
     "evalue": "id_card() missing 1 required positional argument: 'timing'",
     "output_type": "error",
     "traceback": [
      "\u001b[1;31m---------------------------------------------------------------------------\u001b[0m",
      "\u001b[1;31mTypeError\u001b[0m                                 Traceback (most recent call last)",
      "\u001b[1;32m<ipython-input-5-4f8ea2534504>\u001b[0m in \u001b[0;36m<module>\u001b[1;34m\u001b[0m\n\u001b[0;32m     11\u001b[0m \u001b[0mid_card\u001b[0m\u001b[1;33m(\u001b[0m\u001b[1;36m1\u001b[0m\u001b[1;33m,\u001b[0m \u001b[1;34m\"Fazal Ur Rahman\"\u001b[0m\u001b[1;33m,\u001b[0m \u001b[1;34m\"Umar\"\u001b[0m\u001b[1;33m,\u001b[0m \u001b[1;34m\"AIC\"\u001b[0m\u001b[1;33m,\u001b[0m \u001b[1;34m\"12:00 PM to 4:00 PM\"\u001b[0m\u001b[1;33m)\u001b[0m\u001b[1;33m\u001b[0m\u001b[1;33m\u001b[0m\u001b[0m\n\u001b[0;32m     12\u001b[0m \u001b[1;33m\u001b[0m\u001b[0m\n\u001b[1;32m---> 13\u001b[1;33m \u001b[0mid_card\u001b[0m\u001b[1;33m(\u001b[0m\u001b[1;36m1\u001b[0m\u001b[1;33m,\u001b[0m \u001b[1;34m\"Fazal Ur Rahman\"\u001b[0m\u001b[1;33m,\u001b[0m \u001b[1;34m\"Umar\"\u001b[0m\u001b[1;33m,\u001b[0m \u001b[1;34m\"12:00 PM to 4:00 PM\"\u001b[0m\u001b[1;33m)\u001b[0m\u001b[1;33m\u001b[0m\u001b[1;33m\u001b[0m\u001b[0m\n\u001b[0m",
      "\u001b[1;31mTypeError\u001b[0m: id_card() missing 1 required positional argument: 'timing'"
     ]
    }
   ],
   "source": [
    "def id_card(sid, sname, fname, course, timing):\n",
    "    print(f\"\"\"\n",
    "    PIAIC Islamabad\n",
    "    Student id: {sid}\n",
    "    Name: {sname}\n",
    "    Father's Name: {fname}\n",
    "    Course: {course}\n",
    "    Timing: {timing}\n",
    "    \"\"\")\n",
    "    \n",
    "id_card(1, \"Fazal Ur Rahman\", \"Umar\", \"AIC\", \"12:00 PM to 4:00 PM\")\n",
    "    \n",
    "id_card(1, \"Fazal Ur Rahman\", \"Umar\",\"12:00 PM to 4:00 PM\") #TypeError: id_card() missing 1 required positional argument: 'timing'"
   ]
  },
  {
   "cell_type": "markdown",
   "metadata": {},
   "source": [
    "# Optional Orgument"
   ]
  },
  {
   "cell_type": "code",
   "execution_count": 7,
   "metadata": {},
   "outputs": [
    {
     "name": "stdout",
     "output_type": "stream",
     "text": [
      "5 0 0\n",
      "5\n"
     ]
    }
   ],
   "source": [
    "def pls(x,y=0,z=0):\n",
    "    print(x,y,z)\n",
    "    print(x+y+z)\n",
    "pls(5)"
   ]
  },
  {
   "cell_type": "code",
   "execution_count": 9,
   "metadata": {},
   "outputs": [
    {
     "name": "stdout",
     "output_type": "stream",
     "text": [
      "6 7 0\n",
      "13\n",
      "8 5 9\n",
      "22\n"
     ]
    },
    {
     "ename": "TypeError",
     "evalue": "pls() missing 1 required positional argument: 'x'",
     "output_type": "error",
     "traceback": [
      "\u001b[1;31m---------------------------------------------------------------------------\u001b[0m",
      "\u001b[1;31mTypeError\u001b[0m                                 Traceback (most recent call last)",
      "\u001b[1;32m<ipython-input-9-b7fe04b3fbd8>\u001b[0m in \u001b[0;36m<module>\u001b[1;34m\u001b[0m\n\u001b[0;32m      1\u001b[0m \u001b[0mpls\u001b[0m\u001b[1;33m(\u001b[0m\u001b[1;36m6\u001b[0m\u001b[1;33m,\u001b[0m\u001b[1;36m7\u001b[0m\u001b[1;33m)\u001b[0m\u001b[1;33m\u001b[0m\u001b[1;33m\u001b[0m\u001b[0m\n\u001b[0;32m      2\u001b[0m \u001b[0mpls\u001b[0m\u001b[1;33m(\u001b[0m\u001b[1;36m8\u001b[0m\u001b[1;33m,\u001b[0m\u001b[1;36m5\u001b[0m\u001b[1;33m,\u001b[0m\u001b[1;36m9\u001b[0m\u001b[1;33m)\u001b[0m\u001b[1;33m\u001b[0m\u001b[1;33m\u001b[0m\u001b[0m\n\u001b[1;32m----> 3\u001b[1;33m \u001b[0mpls\u001b[0m\u001b[1;33m(\u001b[0m\u001b[1;33m)\u001b[0m\u001b[1;33m\u001b[0m\u001b[1;33m\u001b[0m\u001b[0m\n\u001b[0m",
      "\u001b[1;31mTypeError\u001b[0m: pls() missing 1 required positional argument: 'x'"
     ]
    }
   ],
   "source": [
    "pls(6,7)\n",
    "pls(8,5,9)\n",
    "pls() #TypeError: pls() missing 1 required positional argument: 'x'"
   ]
  },
  {
   "cell_type": "markdown",
   "metadata": {},
   "source": [
    "# Non Return Fucntions"
   ]
  },
  {
   "cell_type": "code",
   "execution_count": 10,
   "metadata": {},
   "outputs": [
    {
     "name": "stdout",
     "output_type": "stream",
     "text": [
      "Pakistan\n",
      "None\n"
     ]
    }
   ],
   "source": [
    "a = print(\"Pakistan\") # print is a non return function\n",
    "print(a)"
   ]
  },
  {
   "cell_type": "code",
   "execution_count": 12,
   "metadata": {},
   "outputs": [
    {
     "name": "stdout",
     "output_type": "stream",
     "text": [
      "2 3 4\n",
      "9\n",
      "None\n"
     ]
    }
   ],
   "source": [
    "b = pls(2,3,4) # pls is a non return function\n",
    "print(b)"
   ]
  },
  {
   "cell_type": "markdown",
   "metadata": {},
   "source": [
    "# Return Fucntions"
   ]
  },
  {
   "cell_type": "code",
   "execution_count": 15,
   "metadata": {},
   "outputs": [
    {
     "name": "stdout",
     "output_type": "stream",
     "text": [
      "15 15\n"
     ]
    }
   ],
   "source": [
    "def pls2(x=0, y=0, z=0):\n",
    "    return x+y+z\n",
    "\n",
    "a = pls2(7,8)\n",
    "b = pls2(8,4,3)\n",
    "\n",
    "print(a,b)"
   ]
  },
  {
   "cell_type": "code",
   "execution_count": 16,
   "metadata": {},
   "outputs": [
    {
     "name": "stdout",
     "output_type": "stream",
     "text": [
      "15 15\n"
     ]
    }
   ],
   "source": [
    "def pls2(x=0, y=0, z=0):\n",
    "    return x+y+z #Always return fisrt return statement\n",
    "    return x*y*z\n",
    "    return x+y*z\n",
    "\n",
    "a = pls2(7,8)\n",
    "b = pls2(8,4,3)\n",
    "\n",
    "print(a,b)"
   ]
  },
  {
   "cell_type": "code",
   "execution_count": 18,
   "metadata": {},
   "outputs": [
    {
     "name": "stdout",
     "output_type": "stream",
     "text": [
      "(15, 0, 7)\n"
     ]
    }
   ],
   "source": [
    "def pls2(x=0, y=0, z=0):\n",
    "    return x+y+z, x*y*z, x+y*z # multiple return values are akways returend in the form of Tuple\n",
    "\n",
    "a = pls2(7,8)\n",
    "\n",
    "print(a)"
   ]
  },
  {
   "cell_type": "markdown",
   "metadata": {},
   "source": [
    "# Keyword Arguments"
   ]
  },
  {
   "cell_type": "code",
   "execution_count": 19,
   "metadata": {},
   "outputs": [
    {
     "name": "stdout",
     "output_type": "stream",
     "text": [
      "\n",
      "    PIAIC Islamabad\n",
      "    Student id: 1\n",
      "    Name: Fazal Ur Rahman\n",
      "    Father's Name: Umar\n",
      "    Course: AIC\n",
      "    Timing: 12:00 PM to 4:00 PM\n",
      "    \n"
     ]
    }
   ],
   "source": [
    "def id_card(sid, sname, fname, course, timing):\n",
    "    print(f\"\"\"\n",
    "    PIAIC Islamabad\n",
    "    Student id: {sid}\n",
    "    Name: {sname}\n",
    "    Father's Name: {fname}\n",
    "    Course: {course}\n",
    "    Timing: {timing}\n",
    "    \"\"\")\n",
    "\n",
    "\n",
    "id_card(sid=1, course=\"AIC\",sname = \"Fazal Ur Rahman\",fname = \"Umar\", timing=\"12:00 PM to 4:00 PM\")\n",
    "    "
   ]
  },
  {
   "cell_type": "code",
   "execution_count": 22,
   "metadata": {},
   "outputs": [
    {
     "ename": "TypeError",
     "evalue": "id_card() got multiple values for argument 'sname'",
     "output_type": "error",
     "traceback": [
      "\u001b[1;31m---------------------------------------------------------------------------\u001b[0m",
      "\u001b[1;31mTypeError\u001b[0m                                 Traceback (most recent call last)",
      "\u001b[1;32m<ipython-input-22-47505f34263b>\u001b[0m in \u001b[0;36m<module>\u001b[1;34m\u001b[0m\n\u001b[0;32m     10\u001b[0m \u001b[1;33m\u001b[0m\u001b[0m\n\u001b[0;32m     11\u001b[0m \u001b[1;33m\u001b[0m\u001b[0m\n\u001b[1;32m---> 12\u001b[1;33m \u001b[0mid_card\u001b[0m\u001b[1;33m(\u001b[0m\u001b[1;36m1\u001b[0m\u001b[1;33m,\u001b[0m\u001b[1;34m\"12:00 PM to 4:00 PM\"\u001b[0m\u001b[1;33m,\u001b[0m \u001b[0mcourse\u001b[0m\u001b[1;33m=\u001b[0m\u001b[1;34m\"AIC\"\u001b[0m\u001b[1;33m,\u001b[0m\u001b[0msname\u001b[0m \u001b[1;33m=\u001b[0m \u001b[1;34m\"Fazal Ur Rahman\"\u001b[0m\u001b[1;33m,\u001b[0m\u001b[0mfname\u001b[0m \u001b[1;33m=\u001b[0m \u001b[1;34m\"Umar\"\u001b[0m\u001b[1;33m)\u001b[0m\u001b[1;33m\u001b[0m\u001b[1;33m\u001b[0m\u001b[0m\n\u001b[0m\u001b[0;32m     13\u001b[0m \u001b[1;33m\u001b[0m\u001b[0m\n",
      "\u001b[1;31mTypeError\u001b[0m: id_card() got multiple values for argument 'sname'"
     ]
    }
   ],
   "source": [
    "def id_card(sid, sname, fname, course, timing):\n",
    "    print(f\"\"\"\n",
    "    PIAIC Islamabad\n",
    "    Student id: {sid}\n",
    "    Name: {sname}\n",
    "    Father's Name: {fname}\n",
    "    Course: {course}\n",
    "    Timing: {timing}\n",
    "    \"\"\")\n",
    "\n",
    "\n",
    "id_card(sid=1, course=\"AIC\",sname = \"Fazal Ur Rahman\",fname = \"Umar\", \"12:00 PM to 4:00 PM\")\n",
    "    "
   ]
  },
  {
   "cell_type": "markdown",
   "metadata": {},
   "source": [
    "# Pass Argument by List"
   ]
  },
  {
   "cell_type": "code",
   "execution_count": 28,
   "metadata": {},
   "outputs": [
    {
     "name": "stdout",
     "output_type": "stream",
     "text": [
      "\n",
      "    PIAIC Islamabad\n",
      "    Student id: 8\n",
      "    Name: A\n",
      "    Father's Name: B\n",
      "    Course: C\n",
      "    Timing: D\n",
      "    \n",
      "\n",
      "    PIAIC Islamabad\n",
      "    Student id: 81\n",
      "    Name: A1\n",
      "    Father's Name: B1\n",
      "    Course: C1\n",
      "    Timing: D1\n",
      "    \n"
     ]
    }
   ],
   "source": [
    "def id_card(sid, sname, fname, course, timing):\n",
    "    print(f\"\"\"\n",
    "    PIAIC Islamabad\n",
    "    Student id: {sid}\n",
    "    Name: {sname}\n",
    "    Father's Name: {fname}\n",
    "    Course: {course}\n",
    "    Timing: {timing}\n",
    "    \"\"\")\n",
    "# for positional argument use the list\n",
    "l1 = [8,\"A\",\"B\",\"C\",\"D\"]\n",
    "l2 = [81,\"A1\",\"B1\",\"C1\",\"D1\"]\n",
    "\n",
    "id_card(*l1)\n",
    "id_card(*l2)\n",
    "\n",
    "# for keyword argument use the Dictionary\n"
   ]
  },
  {
   "cell_type": "code",
   "execution_count": 52,
   "metadata": {},
   "outputs": [
    {
     "name": "stdout",
     "output_type": "stream",
     "text": [
      "\n",
      "I have a hamster.\n",
      "My hamster's name is Harry.\n"
     ]
    }
   ],
   "source": [
    "def describe_pet(animal_type, pet_name):\n",
    "    \"\"\"Display information about a pet.\"\"\"\n",
    "    print(\"\\nI have a \" + animal_type + \".\")\n",
    "    print(\"My \" + animal_type + \"'s name is \" + pet_name.title() + \".\")\n",
    "\n",
    "describe_pet('hamster', 'harry')"
   ]
  },
  {
   "cell_type": "markdown",
   "metadata": {},
   "source": [
    "# Pass Aurgument by Dictionary"
   ]
  },
  {
   "cell_type": "code",
   "execution_count": 32,
   "metadata": {},
   "outputs": [
    {
     "name": "stdout",
     "output_type": "stream",
     "text": [
      "\n",
      "    PIAIC Islamabad\n",
      "    Student id: 1\n",
      "    Name: fazal\n",
      "    Father's Name: umar\n",
      "    Course: AIC\n",
      "    Timing: 12-4\n",
      "    \n"
     ]
    }
   ],
   "source": [
    "def id_card(sid, sname, fname, course, timing):\n",
    "    print(f\"\"\"\n",
    "    PIAIC Islamabad\n",
    "    Student id: {sid}\n",
    "    Name: {sname}\n",
    "    Father's Name: {fname}\n",
    "    Course: {course}\n",
    "    Timing: {timing}\n",
    "    \"\"\")\n",
    "\n",
    "# for keyword argument use the Dictionary   \n",
    "\n",
    "\n",
    "d1 = {\n",
    " \n",
    "    'course': 'AIC',\n",
    "    'timing': '12-4',\n",
    "    'sname': 'fazal',\n",
    "    'fname': 'umar',\n",
    "    'sid': '1'\n",
    "}\n",
    "\n",
    "id_card(**d1)\n",
    "\n",
    "\n",
    "\n"
   ]
  },
  {
   "cell_type": "markdown",
   "metadata": {},
   "source": [
    "# Optional Parameters with List"
   ]
  },
  {
   "cell_type": "code",
   "execution_count": 35,
   "metadata": {},
   "outputs": [
    {
     "name": "stdout",
     "output_type": "stream",
     "text": [
      "Fazal\n",
      "(5, 8, 9, 0)\n",
      "22\n"
     ]
    }
   ],
   "source": [
    "def abc(name,*number):\n",
    "    print(name)\n",
    "    print(number)\n",
    "    print(sum(number))\n",
    "\n",
    "abc(\"Fazal\", 5,8,9,0)"
   ]
  },
  {
   "cell_type": "code",
   "execution_count": 37,
   "metadata": {},
   "outputs": [
    {
     "name": "stdout",
     "output_type": "stream",
     "text": [
      "Fazal\n",
      "(5, 8, 9, 0)\n",
      "22\n"
     ]
    }
   ],
   "source": [
    "def abc(*number,name):\n",
    "    print(name)\n",
    "    print(number)\n",
    "    print(sum(number))\n",
    "\n",
    "abc(5,8,9,0, name = \"Fazal\")"
   ]
  },
  {
   "cell_type": "markdown",
   "metadata": {},
   "source": [
    "# Optional Parameters with Dictionary"
   ]
  },
  {
   "cell_type": "code",
   "execution_count": 50,
   "metadata": {},
   "outputs": [
    {
     "name": "stdout",
     "output_type": "stream",
     "text": [
      "Fazal\n",
      "{'a': 'aa', 'b': 'bb', 'c': 'cc'}\n",
      "Pakistan\n"
     ]
    }
   ],
   "source": [
    "def abc(name, **keyValue):\n",
    "    print(name)\n",
    "    print(keyValue)\n",
    "    if 'c' in keyValue.keys():\n",
    "        print(\"Pakistan\")\n",
    "    else :\n",
    "        print(\"not found\")\n",
    "\n",
    "abc('Fazal', a='aa', b='bb', c='cc')"
   ]
  },
  {
   "cell_type": "code",
   "execution_count": null,
   "metadata": {},
   "outputs": [],
   "source": []
  }
 ],
 "metadata": {
  "kernelspec": {
   "display_name": "Python 3",
   "language": "python",
   "name": "python3"
  },
  "language_info": {
   "codemirror_mode": {
    "name": "ipython",
    "version": 3
   },
   "file_extension": ".py",
   "mimetype": "text/x-python",
   "name": "python",
   "nbconvert_exporter": "python",
   "pygments_lexer": "ipython3",
   "version": "3.7.3"
  }
 },
 "nbformat": 4,
 "nbformat_minor": 2
}
