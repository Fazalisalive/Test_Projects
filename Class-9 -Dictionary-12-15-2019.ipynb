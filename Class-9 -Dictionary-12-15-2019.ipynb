{
 "cells": [
  {
   "cell_type": "code",
   "execution_count": 1,
   "metadata": {},
   "outputs": [
    {
     "data": {
      "text/plain": [
       "[2, 'Qasim', 'A.I']"
      ]
     },
     "execution_count": 1,
     "metadata": {},
     "output_type": "execute_result"
    }
   ],
   "source": [
    "#     0     1       2  \n",
    "l1 = [2, \"Qasim\", \"A.I\"]\n",
    "#    -3    -2      -1\n",
    "\n",
    "# list[element1, element2, element3, ...]\n",
    "# list[index]\n",
    "l1"
   ]
  },
  {
   "cell_type": "markdown",
   "metadata": {},
   "source": [
    "# Disctionary"
   ]
  },
  {
   "cell_type": "raw",
   "metadata": {},
   "source": [
    "# item = key:value\n",
    "\n",
    "#{key1: value1,\n",
    "# key2: value2,\n",
    "# key3: value3,..}"
   ]
  },
  {
   "cell_type": "code",
   "execution_count": 2,
   "metadata": {},
   "outputs": [
    {
     "data": {
      "text/plain": [
       "{'id': 2, 'name': 'Fazal', 'Course': 'A.I'}"
      ]
     },
     "execution_count": 2,
     "metadata": {},
     "output_type": "execute_result"
    }
   ],
   "source": [
    "d1 = {\"id\":2,\n",
    "     \"name\": \"Fazal\",\n",
    "     \"Course\": \"A.I\"}\n",
    "d1"
   ]
  },
  {
   "cell_type": "code",
   "execution_count": 3,
   "metadata": {},
   "outputs": [
    {
     "data": {
      "text/plain": [
       "{'id': 10, 'name': 'fazal', 'course': 'IOT'}"
      ]
     },
     "execution_count": 3,
     "metadata": {},
     "output_type": "execute_result"
    }
   ],
   "source": [
    "d1 = {} #empty dictionary\n",
    "d1[\"id\"] = 10\n",
    "d1['name']=\"fazal\"\n",
    "d1['course']=\"IOT\"\n",
    "d1"
   ]
  },
  {
   "cell_type": "code",
   "execution_count": 4,
   "metadata": {},
   "outputs": [
    {
     "data": {
      "text/plain": [
       "{'id': 25, 'name': 'Fazal', 'Course': 'A.I'}"
      ]
     },
     "execution_count": 4,
     "metadata": {},
     "output_type": "execute_result"
    }
   ],
   "source": [
    "d1 = {\"id\":2,\n",
    "     \"name\": \"Fazal\",\n",
    "      \"id\":25, # will overwrite the previous value\n",
    "     \"Course\": \"A.I\"}\n",
    "d1"
   ]
  },
  {
   "cell_type": "code",
   "execution_count": 6,
   "metadata": {},
   "outputs": [
    {
     "name": "stdout",
     "output_type": "stream",
     "text": [
      "Chunky Monkey\n",
      "Vanilla\n"
     ]
    }
   ],
   "source": [
    "from collections import defaultdict\n",
    "ice_cream = defaultdict(lambda: 'Vanilla')\n",
    "ice_cream = defaultdict(lambda: 'Vanilla')\n",
    "ice_cream['Sarah'] = 'Chunky Monkey'\n",
    "ice_cream['Abdul'] = 'Butter Pecan'\n",
    "print(ice_cream['Sarah'])\n",
    "print(ice_cream['Joe'])"
   ]
  },
  {
   "cell_type": "code",
   "execution_count": 8,
   "metadata": {},
   "outputs": [
    {
     "name": "stdout",
     "output_type": "stream",
     "text": [
      "{'id': 10, 'name': 'Ali', 'course': 'IOt'}\n",
      "{'id': 10, 'name': 'fazal', 'course': 'IOt'}\n",
      "{'id': 10, 'name': 'Ali', 'course': 'IOt'}\n"
     ]
    }
   ],
   "source": [
    "d1 = {'id': 10, 'name': 'Ali','course': 'IOt'}\n",
    "d2 = d1.copy()\n",
    "print(d1)\n",
    "\n",
    "d1['name'] = \"fazal\"\n",
    "print(d1)\n",
    "print(d2)"
   ]
  },
  {
   "cell_type": "code",
   "execution_count": 9,
   "metadata": {},
   "outputs": [
    {
     "data": {
      "text/plain": [
       "{'name': None, 'id': None, 'contact': None, 'DOB': None, 'CNIC': None}"
      ]
     },
     "execution_count": 9,
     "metadata": {},
     "output_type": "execute_result"
    }
   ],
   "source": [
    "l1 = ['name', 'id', 'contact', 'DOB', 'CNIC'] #list\n",
    "\n",
    "dict.fromkeys(l1) #make a dictionary"
   ]
  },
  {
   "cell_type": "code",
   "execution_count": null,
   "metadata": {},
   "outputs": [],
   "source": [
    "l1 = ['name', 'id', 'contact', 'DOB', 'CNIC']\n",
    "\n",
    "for l1 in \n",
    "l1 = input(\"id: \")\n",
    "l1 = input(\"name: \")\n",
    "l1 = input(\"contact: \")\n",
    "l1 = input(\"CNIC: \")\n",
    "l1 = input(\"course: \")\n",
    "\n"
   ]
  },
  {
   "cell_type": "code",
   "execution_count": 4,
   "metadata": {},
   "outputs": [
    {
     "name": "stdout",
     "output_type": "stream",
     "text": [
      "Enter Key: a,b,c,d\n"
     ]
    },
    {
     "data": {
      "text/plain": [
       "{'a': None, 'b': None, 'c': None, 'd': None}"
      ]
     },
     "execution_count": 4,
     "metadata": {},
     "output_type": "execute_result"
    }
   ],
   "source": [
    "l1 = input(\"Enter Key: \")\n",
    "l1 = l1.split(\",\")\n",
    "\n",
    "d1 = {}\n",
    "\n",
    "for key in l1:\n",
    "    d1[key] = None\n",
    "    \n",
    "d1\n"
   ]
  },
  {
   "cell_type": "code",
   "execution_count": 5,
   "metadata": {},
   "outputs": [
    {
     "name": "stdout",
     "output_type": "stream",
     "text": [
      "Enter Keysa,b,c\n"
     ]
    },
    {
     "ename": "TypeError",
     "evalue": "'builtin_function_or_method' object is not subscriptable",
     "output_type": "error",
     "traceback": [
      "\u001b[1;31m---------------------------------------------------------------------------\u001b[0m",
      "\u001b[1;31mTypeError\u001b[0m                                 Traceback (most recent call last)",
      "\u001b[1;32m<ipython-input-5-fc1662cbfd5f>\u001b[0m in \u001b[0;36m<module>\u001b[1;34m\u001b[0m\n\u001b[0;32m      1\u001b[0m \u001b[0ml1\u001b[0m \u001b[1;33m=\u001b[0m \u001b[0minput\u001b[0m\u001b[1;33m(\u001b[0m\u001b[1;34m\"Enter Keys\"\u001b[0m\u001b[1;33m)\u001b[0m\u001b[1;33m.\u001b[0m\u001b[0msplit\u001b[0m\u001b[1;33m(\u001b[0m\u001b[1;34m\",\"\u001b[0m\u001b[1;33m)\u001b[0m\u001b[1;33m\u001b[0m\u001b[1;33m\u001b[0m\u001b[0m\n\u001b[1;32m----> 2\u001b[1;33m \u001b[0mdict\u001b[0m\u001b[1;33m.\u001b[0m\u001b[0mfromkeys\u001b[0m\u001b[1;33m[\u001b[0m\u001b[0ml1\u001b[0m\u001b[1;33m]\u001b[0m\u001b[1;33m\u001b[0m\u001b[1;33m\u001b[0m\u001b[0m\n\u001b[0m",
      "\u001b[1;31mTypeError\u001b[0m: 'builtin_function_or_method' object is not subscriptable"
     ]
    }
   ],
   "source": [
    "l1 = input(\"Enter Keys\").split(\",\")\n",
    "dict.fromkeys[l1]\n"
   ]
  },
  {
   "cell_type": "code",
   "execution_count": 11,
   "metadata": {},
   "outputs": [
    {
     "name": "stdout",
     "output_type": "stream",
     "text": [
      "Enter Keysa,b,c\n",
      "Enter Value1,2,3\n"
     ]
    },
    {
     "data": {
      "text/plain": [
       "{'a': ['1', '2', '3'], 'b': ['1', '2', '3'], 'c': ['1', '2', '3']}"
      ]
     },
     "execution_count": 11,
     "metadata": {},
     "output_type": "execute_result"
    }
   ],
   "source": [
    "l1 = input(\"Enter Keys: \").split(\",\")\n",
    "l2 = input(\"Enter Value: \").split(\",\")\n",
    "\n",
    "dict.fromkeys(l1,l2)\n"
   ]
  },
  {
   "cell_type": "code",
   "execution_count": 16,
   "metadata": {},
   "outputs": [
    {
     "name": "stdout",
     "output_type": "stream",
     "text": [
      "Enter Keys: a,b,c\n",
      "Enter Value: 1,2,3\n",
      "{'a': '1', 'b': '2', 'c': '3'}\n"
     ]
    }
   ],
   "source": [
    "l1 = input(\"Enter Keys: \").split(\",\")\n",
    "l2 = input(\"Enter Value: \").split(\",\")\n",
    "\n",
    "d1 = {}\n",
    "for i in range(len(l1)):\n",
    "    d1[l1[i]] = l2[i]\n",
    "    \n",
    "print(d1)\n"
   ]
  },
  {
   "cell_type": "code",
   "execution_count": 4,
   "metadata": {},
   "outputs": [
    {
     "name": "stdout",
     "output_type": "stream",
     "text": [
      "Enter Keys: a,b,c\n",
      "Enter Value: 1,2,3\n"
     ]
    },
    {
     "ename": "NameError",
     "evalue": "name 'i' is not defined",
     "output_type": "error",
     "traceback": [
      "\u001b[1;31m---------------------------------------------------------------------------\u001b[0m",
      "\u001b[1;31mNameError\u001b[0m                                 Traceback (most recent call last)",
      "\u001b[1;32m<ipython-input-4-1afcab2ca401>\u001b[0m in \u001b[0;36m<module>\u001b[1;34m\u001b[0m\n\u001b[0;32m      3\u001b[0m \u001b[1;33m\u001b[0m\u001b[0m\n\u001b[0;32m      4\u001b[0m \u001b[0md1\u001b[0m \u001b[1;33m=\u001b[0m \u001b[1;33m{\u001b[0m\u001b[1;33m}\u001b[0m\u001b[1;33m\u001b[0m\u001b[1;33m\u001b[0m\u001b[0m\n\u001b[1;32m----> 5\u001b[1;33m \u001b[1;32mwhile\u001b[0m \u001b[0mi\u001b[0m \u001b[1;33m<\u001b[0m \u001b[1;33m(\u001b[0m\u001b[0mlen\u001b[0m\u001b[1;33m(\u001b[0m\u001b[0ml1\u001b[0m\u001b[1;33m)\u001b[0m\u001b[1;33m)\u001b[0m\u001b[1;33m:\u001b[0m\u001b[1;33m\u001b[0m\u001b[1;33m\u001b[0m\u001b[0m\n\u001b[0m\u001b[0;32m      6\u001b[0m     \u001b[0md1\u001b[0m\u001b[1;33m[\u001b[0m\u001b[0ml1\u001b[0m\u001b[1;33m[\u001b[0m\u001b[0mi\u001b[0m\u001b[1;33m]\u001b[0m\u001b[1;33m]\u001b[0m \u001b[1;33m=\u001b[0m \u001b[0ml2\u001b[0m\u001b[1;33m[\u001b[0m\u001b[0mi\u001b[0m\u001b[1;33m]\u001b[0m\u001b[1;33m\u001b[0m\u001b[1;33m\u001b[0m\u001b[0m\n\u001b[0;32m      7\u001b[0m     \u001b[0mi\u001b[0m \u001b[1;33m+=\u001b[0m \u001b[0mi\u001b[0m\u001b[1;33m\u001b[0m\u001b[1;33m\u001b[0m\u001b[0m\n",
      "\u001b[1;31mNameError\u001b[0m: name 'i' is not defined"
     ]
    }
   ],
   "source": [
    "l1 = input(\"Enter Keys: \").split(\",\")\n",
    "l2 = input(\"Enter Value: \").split(\",\")\n",
    "\n",
    "d1 = {}\n",
    "while i < (len(l1)):\n",
    "    d1[l1[i]] = l2[i]\n",
    "    i += i\n",
    "    \n",
    "print(d1)\n"
   ]
  },
  {
   "cell_type": "code",
   "execution_count": 1,
   "metadata": {},
   "outputs": [
    {
     "name": "stdout",
     "output_type": "stream",
     "text": [
      "Enter Keys: a,b,c\n",
      "Enter Value: 1,2,3\n"
     ]
    },
    {
     "data": {
      "text/plain": [
       "{'a': '1', 'b': '2', 'c': '3'}"
      ]
     },
     "execution_count": 1,
     "metadata": {},
     "output_type": "execute_result"
    }
   ],
   "source": [
    "l1 = input(\"Enter Keys: \").split(\",\")\n",
    "l2 = input(\"Enter Value: \").split(\",\")\n",
    "\n",
    "{l1[i]:l2[i] for i in range(len(l1))}"
   ]
  },
  {
   "cell_type": "code",
   "execution_count": 3,
   "metadata": {},
   "outputs": [
    {
     "name": "stdout",
     "output_type": "stream",
     "text": [
      "Enter Keys: a,b,c\n",
      "Enter Value: 1,2,3\n"
     ]
    },
    {
     "data": {
      "text/plain": [
       "[('a', '1'), ('b', '2'), ('c', '3')]"
      ]
     },
     "execution_count": 3,
     "metadata": {},
     "output_type": "execute_result"
    }
   ],
   "source": [
    "l1 = input(\"Enter Keys: \").split(\",\")\n",
    "l2 = input(\"Enter Value: \").split(\",\")\n",
    "\n",
    "list(zip(l1,l2))"
   ]
  },
  {
   "cell_type": "code",
   "execution_count": 5,
   "metadata": {},
   "outputs": [
    {
     "name": "stdout",
     "output_type": "stream",
     "text": [
      "Enter Keys: a,b,c\n",
      "Enter Value: 1,2,3\n"
     ]
    },
    {
     "data": {
      "text/plain": [
       "{'a': '1', 'b': '2', 'c': '3'}"
      ]
     },
     "execution_count": 5,
     "metadata": {},
     "output_type": "execute_result"
    }
   ],
   "source": [
    "l1 = input(\"Enter Keys: \").split(\",\")\n",
    "l2 = input(\"Enter Value: \").split(\",\")\n",
    "\n",
    "dict(zip(l1,l2))"
   ]
  },
  {
   "cell_type": "code",
   "execution_count": 7,
   "metadata": {},
   "outputs": [
    {
     "name": "stdout",
     "output_type": "stream",
     "text": [
      "Enter Name: Fazal\n",
      "Enter Skills: AI,ASP,C#\n"
     ]
    },
    {
     "data": {
      "text/plain": [
       "{'F': 'AI', 'a': 'ASP', 'z': 'C#'}"
      ]
     },
     "execution_count": 7,
     "metadata": {},
     "output_type": "execute_result"
    }
   ],
   "source": [
    "\n",
    "l2 = input(\"Enter Name: \")\n",
    "l3 = input(\"Enter Skills: \").split(\",\")\n",
    "\n",
    "dict(zip(l2,l3))"
   ]
  },
  {
   "cell_type": "code",
   "execution_count": 10,
   "metadata": {},
   "outputs": [
    {
     "name": "stdout",
     "output_type": "stream",
     "text": [
      "ID: 3\n",
      "name: fazal\n",
      "skills: a,x,c,v\n"
     ]
    },
    {
     "data": {
      "text/plain": [
       "{'id': '3', 'name': 'fazal', 'skills': ['a', 'x', 'c', 'v']}"
      ]
     },
     "execution_count": 10,
     "metadata": {},
     "output_type": "execute_result"
    }
   ],
   "source": [
    "dict1 = {}\n",
    "dict1[\"id\"] = input(\"ID: \")\n",
    "dict1[\"name\"] = input(\"name: \")\n",
    "dict1[\"skills\"] = input(\"skills: \").split(\",\")\n",
    "dict1\n"
   ]
  },
  {
   "cell_type": "code",
   "execution_count": 34,
   "metadata": {},
   "outputs": [
    {
     "name": "stdout",
     "output_type": "stream",
     "text": [
      "['A', 'B', 'C', 'D', 'E', 'F', 'G', 'H', 'I', 'J', 'K', 'L', 'M', 'N', 'O', 'P', 'Q', 'R', 'S', 'T', 'U', 'V', 'W', 'X', 'Y', 'Z']\n",
      "['a', 'b', 'c', 'd', 'e', 'f', 'g', 'h', 'i', 'j', 'k', 'l', 'm', 'n', 'o', 'p', 'q', 'r', 's', 't', 'u', 'v', 'w', 'x', 'y', 'z']\n",
      "['/', '0', '1', '2', '3', '4', '5', '6', '7', '8', '9']\n"
     ]
    },
    {
     "data": {
      "text/plain": [
       "[('A', 'a', '9'),\n",
       " ('B', 'b', '8'),\n",
       " ('C', 'c', '7'),\n",
       " ('D', 'd', '6'),\n",
       " ('E', 'e', '5'),\n",
       " ('F', 'f', '4'),\n",
       " ('G', 'g', '3'),\n",
       " ('H', 'h', '2'),\n",
       " ('I', 'i', '1'),\n",
       " ('J', 'j', '0'),\n",
       " ('K', 'k', '/')]"
      ]
     },
     "execution_count": 34,
     "metadata": {},
     "output_type": "execute_result"
    }
   ],
   "source": [
    "a = [chr(i) for i in range(65,91)]\n",
    "b = [chr(i) for i in range(97,123)]\n",
    "c = [chr(i) for i in range(47,58)]\n",
    "\n",
    "#d = zip(a,sorted(b, reverse = True),c)\n",
    "print(a,b,c, sep=\"\\n\")\n",
    "\n",
    "list(d)\n",
    "\n",
    "d = zip(a,b, sorted(c, reverse = True))\n",
    "#sorted(d, reverse=True)\n",
    "\n",
    "list(d)"
   ]
  },
  {
   "cell_type": "code",
   "execution_count": 36,
   "metadata": {},
   "outputs": [
    {
     "data": {
      "text/plain": [
       "[('K', 'k', '/'),\n",
       " ('J', 'j', '0'),\n",
       " ('I', 'i', '1'),\n",
       " ('H', 'h', '2'),\n",
       " ('G', 'g', '3'),\n",
       " ('F', 'f', '4'),\n",
       " ('E', 'e', '5'),\n",
       " ('D', 'd', '6'),\n",
       " ('C', 'c', '7'),\n",
       " ('B', 'b', '8'),\n",
       " ('A', 'a', '9')]"
      ]
     },
     "execution_count": 36,
     "metadata": {},
     "output_type": "execute_result"
    }
   ],
   "source": [
    "d = [('A', 'a', '9'),\n",
    " ('B', 'b', '8'),\n",
    " ('C', 'c', '7'),\n",
    " ('D', 'd', '6'),\n",
    " ('E', 'e', '5'),\n",
    " ('F', 'f', '4'),\n",
    " ('G', 'g', '3'),\n",
    " ('H', 'h', '2'),\n",
    " ('I', 'i', '1'),\n",
    " ('J', 'j', '0'),\n",
    " ('K', 'k', '/')]\n",
    "\n",
    "sorted(d, reverse=True)"
   ]
  },
  {
   "cell_type": "code",
   "execution_count": 37,
   "metadata": {},
   "outputs": [
    {
     "data": {
      "text/plain": [
       "[('A', 'a', '9'),\n",
       " ('B', 'b', '8'),\n",
       " ('C', 'c', '7'),\n",
       " ('D', 'd', '6'),\n",
       " ('E', 'e', '5'),\n",
       " ('F', 'f', '4'),\n",
       " ('G', 'g', '3'),\n",
       " ('H', 'h', '2'),\n",
       " ('I', 'i', '1'),\n",
       " ('J', 'j', '0'),\n",
       " ('K', 'k', '/')]"
      ]
     },
     "execution_count": 37,
     "metadata": {},
     "output_type": "execute_result"
    }
   ],
   "source": [
    "d = [('A', 'a', '9'),\n",
    " ('B', 'b', '8'),\n",
    " ('C', 'c', '7'),\n",
    " ('D', 'd', '6'),\n",
    " ('E', 'e', '5'),\n",
    " ('F', 'f', '4'),\n",
    " ('G', 'g', '3'),\n",
    " ('H', 'h', '2'),\n",
    " ('I', 'i', '1'),\n",
    " ('J', 'j', '0'),\n",
    " ('K', 'k', '/')]\n",
    "\n",
    "sorted(d, reverse=True, key=lambda x:x[2])"
   ]
  },
  {
   "cell_type": "code",
   "execution_count": 45,
   "metadata": {},
   "outputs": [
    {
     "data": {
      "text/plain": [
       "[('A', 'a', '9'),\n",
       " ('B', 'b', '8'),\n",
       " ('C', 'c', '7'),\n",
       " ('D', 'd', '6'),\n",
       " ('E', 'e', '5'),\n",
       " ('F', 'f', '4'),\n",
       " ('G', 'g', '3'),\n",
       " ('H', 'h', '2'),\n",
       " ('I', 'i', '1'),\n",
       " ('J', 'j', '0'),\n",
       " ('K', 'k', '/')]"
      ]
     },
     "execution_count": 45,
     "metadata": {},
     "output_type": "execute_result"
    }
   ],
   "source": [
    "d = [('A', 'a', '9'),\n",
    " ('B', 'b', '8'),\n",
    " ('C', 'c', '7'),\n",
    " ('D', 'd', '6'),\n",
    " ('E', 'e', '5'),\n",
    " ('F', 'f', '4'),\n",
    " ('G', 'g', '3'),\n",
    " ('H', 'h', '2'),\n",
    " ('I', 'i', '1'),\n",
    " ('J', 'j', '0'),\n",
    " ('K', 'k', '/')]\n",
    "\n",
    "def abc(x):\n",
    "    return x[2]\n",
    "\n",
    "\n",
    "sorted(d, reverse=True, key=abc)\n",
    "\n"
   ]
  },
  {
   "cell_type": "code",
   "execution_count": 47,
   "metadata": {},
   "outputs": [
    {
     "data": {
      "text/plain": [
       "[('A', 'a', '9'),\n",
       " ('B', 'b', '8'),\n",
       " ('C', 'c', '7'),\n",
       " ('D', 'd', '6'),\n",
       " ('E', 'e', '5'),\n",
       " ('F', 'f', '4'),\n",
       " ('G', 'g', '3'),\n",
       " ('H', 'h', '2'),\n",
       " ('I', 'i', '1'),\n",
       " ('J', 'j', '0'),\n",
       " ('K', 'k', '/')]"
      ]
     },
     "execution_count": 47,
     "metadata": {},
     "output_type": "execute_result"
    }
   ],
   "source": [
    "d = [('A', 'a', '9'),\n",
    " ('B', 'b', '8'),\n",
    " ('C', 'c', '7'),\n",
    " ('D', 'd', '6'),\n",
    " ('E', 'e', '5'),\n",
    " ('F', 'f', '4'),\n",
    " ('G', 'g', '3'),\n",
    " ('H', 'h', '2'),\n",
    " ('I', 'i', '1'),\n",
    " ('J', 'j', '0'),\n",
    " ('K', 'k', '/')]\n",
    "\n",
    "\n",
    "sorted(d, reverse=True, key=lambda x:x[2])"
   ]
  },
  {
   "cell_type": "code",
   "execution_count": 48,
   "metadata": {},
   "outputs": [
    {
     "data": {
      "text/plain": [
       "[('A', 'a', '9'),\n",
       " ('B', 'b', '8'),\n",
       " ('C', 'c', '7'),\n",
       " ('D', 'd', '6'),\n",
       " ('E', 'e', '5'),\n",
       " ('F', 'f', '4'),\n",
       " ('G', 'g', '3'),\n",
       " ('H', 'h', '2'),\n",
       " ('I', 'i', '1'),\n",
       " ('J', 'j', '0'),\n",
       " ('K', 'k', '/')]"
      ]
     },
     "execution_count": 48,
     "metadata": {},
     "output_type": "execute_result"
    }
   ],
   "source": [
    "d = [('A', 'a', '9'),\n",
    " ('B', 'b', '8'),\n",
    " ('C', 'c', '7'),\n",
    " ('D', 'd', '6'),\n",
    " ('E', 'e', '5'),\n",
    " ('F', 'f', '4'),\n",
    " ('G', 'g', '3'),\n",
    " ('H', 'h', '2'),\n",
    " ('I', 'i', '1'),\n",
    " ('J', 'j', '0'),\n",
    " ('K', 'k', '/')]\n",
    "\n",
    "\n",
    "sorted(d, reverse=True, key=lambda x:x[2])"
   ]
  },
  {
   "cell_type": "code",
   "execution_count": 61,
   "metadata": {},
   "outputs": [
    {
     "data": {
      "text/plain": [
       "{'a': 1, 'b': 2, 'd': 3, 'c': 5}"
      ]
     },
     "execution_count": 61,
     "metadata": {},
     "output_type": "execute_result"
    }
   ],
   "source": [
    "# Sorted by Keys\n",
    "\n",
    "d1 = {\n",
    "    \n",
    "    'a':1,\n",
    "    'c':5,\n",
    "    'b':2,\n",
    "    'd':3\n",
    "}\n",
    "\n",
    "d2 = {}\n",
    "for k in d1.keys():\n",
    "    d2[k] = d1[k]\n",
    "d2\n",
    "\n",
    "# OR\n",
    "\n",
    "sorted(d1.items())\n",
    "\n",
    "# OR\n",
    "\n",
    "list(d1.items())\n",
    "{k:v for k,v in sorted(d1.items(), key=lambda x:x[1])}"
   ]
  },
  {
   "cell_type": "code",
   "execution_count": null,
   "metadata": {},
   "outputs": [],
   "source": [
    "{id: '', name:'', skills=[a,b,c]}"
   ]
  },
  {
   "cell_type": "code",
   "execution_count": 2,
   "metadata": {},
   "outputs": [
    {
     "name": "stdout",
     "output_type": "stream",
     "text": [
      "ID: 1\n",
      "name: faza\n",
      "skills: a,b,s\n",
      "Do you want to enter details Yes | noYes\n",
      "ID: 2,\n",
      "name: rehman\n",
      "skills: d,f,g\n",
      "Do you want to enter details Yes | nono\n"
     ]
    },
    {
     "data": {
      "text/plain": [
       "{'id': '2,', 'name': 'rehman', 'skills': ['d', 'f', 'g']}"
      ]
     },
     "execution_count": 2,
     "metadata": {},
     "output_type": "execute_result"
    }
   ],
   "source": [
    "students = []\n",
    "flag = ''\n",
    "while flag != 'no':\n",
    "        dict1 = {}\n",
    "        dict1[\"id\"] = input(\"ID: \")\n",
    "        dict1[\"name\"] = input(\"name: \")\n",
    "        dict1[\"skills\"] = input(\"skills: \").split(\",\")\n",
    "        students.append(dict1)\n",
    "        flag = input(\"Do you want to enter details Yes | no\")  \n",
    "\n",
    "students\n"
   ]
  },
  {
   "cell_type": "raw",
   "metadata": {},
   "source": [
    "# Books to Studied\n",
    "\n",
    "# Python Crash Book Crash Course\n",
    "\n",
    "# Data Science from scrach"
   ]
  },
  {
   "cell_type": "code",
   "execution_count": null,
   "metadata": {},
   "outputs": [],
   "source": []
  }
 ],
 "metadata": {
  "kernelspec": {
   "display_name": "Python 3",
   "language": "python",
   "name": "python3"
  },
  "language_info": {
   "codemirror_mode": {
    "name": "ipython",
    "version": 3
   },
   "file_extension": ".py",
   "mimetype": "text/x-python",
   "name": "python",
   "nbconvert_exporter": "python",
   "pygments_lexer": "ipython3",
   "version": "3.7.3"
  }
 },
 "nbformat": 4,
 "nbformat_minor": 2
}
