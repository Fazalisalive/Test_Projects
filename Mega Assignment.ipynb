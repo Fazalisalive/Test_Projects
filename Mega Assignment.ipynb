{
 "cells": [
  {
   "cell_type": "raw",
   "metadata": {},
   "source": [
    "Q1. Which of the following terms are related to dictionaries?\n",
    "a. value\n",
    "b. item\n",
    "c. index\n",
    "d. key\n",
    "\n",
    "Answer = a & d"
   ]
  },
  {
   "cell_type": "raw",
   "metadata": {},
   "source": [
    "Q2. Just like lists, + operator is used to extend dictionaries?\n",
    "a. True\n",
    "b. False\n",
    "\n",
    "Answer = b\n"
   ]
  },
  {
   "cell_type": "raw",
   "metadata": {},
   "source": [
    "Q3. To access items from a dictionary, we specify the index of that item within [] like myDict[0]?\n",
    "a. True\n",
    "b. False\n",
    "\n",
    "Answer = a"
   ]
  },
  {
   "cell_type": "raw",
   "metadata": {},
   "source": [
    "Q4. When we use [] to access the value from a dictionary which does not exist in that dictionary….?\n",
    "a. Value within [] is added to the dictionary\n",
    "b. Value None is returned\n",
    "c. New dictionary is created\n",
    "d. None of above\n",
    "\n",
    "Answer = d\n"
   ]
  },
  {
   "cell_type": "raw",
   "metadata": {},
   "source": [
    "Q5. What does return the pop method of a dictionary?\n",
    "a. list\n",
    "b. tuple containing the pair of last item of the dictionary\n",
    "c. dictionary\n",
    "d. value of the key, if it exists in the dictionary\n",
    "\n",
    "Answer = d"
   ]
  },
  {
   "cell_type": "raw",
   "metadata": {},
   "source": [
    "Q7. Which of the following 2 methods can be used to iterate through the items of a dictionary?\n",
    "a. items()\n",
    "b. values()\n",
    "c. indexes()\n",
    "d. keys()\n"
   ]
  },
  {
   "cell_type": "raw",
   "metadata": {},
   "source": [
    "Q8. Which one of the following is used to enclose a dictionary?\n",
    "a. () parenthesis\n",
    "b. {} curly brackets\n",
    "c. [] square brackets\n",
    "d. “” quotation marks\n",
    "\n",
    "Answer = c\n"
   ]
  },
  {
   "cell_type": "raw",
   "metadata": {},
   "source": [
    "Q9. Write Python Program add key-value pair in dictionary and check if a Given Key or Value or Both\n",
    "Exists in a Dictionary or Not."
   ]
  },
  {
   "cell_type": "code",
   "execution_count": 9,
   "metadata": {},
   "outputs": [
    {
     "name": "stdout",
     "output_type": "stream",
     "text": [
      "Enter Name: Fazal\n",
      "Enter Class: AIC\n",
      "please enter correct data.\n"
     ]
    }
   ],
   "source": [
    "myDictionary = {\n",
    "    \"name\" : input(\"Enter Name: \"),\n",
    "    \"Class\" : input(\"Enter Class: \"),\n",
    "}\n",
    "\n",
    "if myDictionary[\"name\"] == \"fazal\" and myDictionary[\"Class\"] == \"AIC\" :\n",
    "    print(\"you have entered correct Data. Thank You!\")\n",
    "else : \n",
    "    print(\"Warning! please enter correct data.\")"
   ]
  },
  {
   "cell_type": "raw",
   "metadata": {},
   "source": [
    "Q10. Write a Python Program to Count the Frequency of Words Appearing in a String Using a\n",
    "Dictionary and print only the words having Even (divisible by 2) frequency.\n"
   ]
  },
  {
   "cell_type": "code",
   "execution_count": 67,
   "metadata": {},
   "outputs": [
    {
     "name": "stdout",
     "output_type": "stream",
     "text": [
      "Enter Text: Fazal Ur Rehman Fazal Azad\n",
      "Dictionary of all words:  {'Fazal': 2, 'Ur': 1, 'Rehman': 1, 'Azad': 1}\n",
      "Fazal : 2\n",
      "Dictionary of even frequncy words: {}\n"
     ]
    }
   ],
   "source": [
    "def wordFrequency(str):\n",
    "    countfrequency = dict()\n",
    "    noOfWords = str.split()\n",
    "    \n",
    "    for w in noOfWords:\n",
    "        if w in countfrequency:\n",
    "            countfrequency[w] +=1\n",
    "        else :\n",
    "            countfrequency[w] = 1\n",
    "    return countfrequency\n",
    "\n",
    "returenedDictionary = wordFrequency(input(\"Enter Text: \"))\n",
    "print(\"Dictionary of all words: \" , returenedDictionary)\n",
    "evenFreuencey = dict()\n",
    "for key, value in returenedDictionary.items():\n",
    "       if value % 2 == 0:\n",
    "            evenFreuencey.keys()\n",
    "            print(key, \":\", value)\n",
    "   \n",
    "print(\"Dictionary of even frequncy words:\",evenFreuencey)"
   ]
  },
  {
   "cell_type": "raw",
   "metadata": {},
   "source": [
    "Q11. What will be output of following?"
   ]
  },
  {
   "cell_type": "code",
   "execution_count": 70,
   "metadata": {},
   "outputs": [
    {
     "data": {
      "text/plain": [
       "['Feb', 'Apr', 'Mar', 'May']"
      ]
     },
     "execution_count": 70,
     "metadata": {},
     "output_type": "execute_result"
    }
   ],
   "source": [
    "\n",
    "X = [\"Feb\", \"Apr\", \"Mar\", \"May\", \"Jun\", \"Jul\", \"Aug\", \"Jan\"] # What will be output of following?\n",
    "X[0:3]\n",
    "X[2:8]\n",
    "X[4:9]\n",
    "X[1:7:2]\n",
    "X[-1:-7]\n",
    "X[-7:7]\n",
    "X[-1:-8:-2]\n",
    "X[:4]"
   ]
  },
  {
   "cell_type": "raw",
   "metadata": {},
   "source": [
    "Q12. Remove the correct number from the list X\n",
    "X = [ 9,2,8,4,5]\n",
    "X__?__\n",
    "print (X)\n",
    "\n",
    "Answer = 3"
   ]
  },
  {
   "cell_type": "code",
   "execution_count": 76,
   "metadata": {},
   "outputs": [
    {
     "name": "stdout",
     "output_type": "stream",
     "text": [
      "[2, 8, 4, 5]\n"
     ]
    }
   ],
   "source": [
    "X = [ 9,2,8,4,5]\n",
    "X.remove(9)\n",
    "print (X)"
   ]
  },
  {
   "cell_type": "raw",
   "metadata": {},
   "source": [
    "Q13. p = 3\n",
    " q = 'hello! '\n",
    " print( q __?__ p)\n",
    " hello! hello! hello!\n",
    " 1) *\n",
    " 2) **\n",
    " 3) +"
   ]
  },
  {
   "cell_type": "raw",
   "metadata": {},
   "source": [
    "Q14. y = \"this is a random sentence\"\n",
    "print (y__?__)\n",
    "Output: THIS IS A RANDOM SENTENCE\n",
    "1) .upper()\n",
    "2) .upcase()\n",
    "3) .capitalize()\n",
    "\n",
    "Answer = a\n",
    " \n"
   ]
  },
  {
   "cell_type": "raw",
   "metadata": {},
   "source": [
    "# Q15. \n",
    "\n",
    "p = True\n",
    "q = ‘True’\n",
    "r = 2\n",
    "r = 2.0\n",
    "print(type(p))\n",
    "print(type(q))\n",
    "print(type(r))\n",
    "print(type(s))\n",
    "\n",
    "Answer = it will generate an error at line 2"
   ]
  },
  {
   "cell_type": "code",
   "execution_count": 89,
   "metadata": {},
   "outputs": [
    {
     "name": "stdout",
     "output_type": "stream",
     "text": [
      "range(0, 2)\n"
     ]
    }
   ],
   "source": [
    "print(range(2))"
   ]
  },
  {
   "cell_type": "raw",
   "metadata": {},
   "source": [
    "Q16. What are the optional arguments to the function?\n",
    "\n",
    "function_1(R1, q, p=None, R2= None)\n",
    "1) q and R2\n",
    "2) p and R2\n",
    "3) p and R1\n",
    "4) R1 and q\n",
    "\n",
    "Answer = 2"
   ]
  },
  {
   "cell_type": "raw",
   "metadata": {},
   "source": [
    "Q17. Which command invokes method X() of the object p?\n",
    "1) X(p)\n",
    "2) p$x()\n",
    "3) X().p\n",
    "4) p.x()\n",
    "\n",
    "Answer = 1"
   ]
  },
  {
   "cell_type": "code",
   "execution_count": 93,
   "metadata": {},
   "outputs": [
    {
     "name": "stdout",
     "output_type": "stream",
     "text": [
      "0\n",
      "2.0\n",
      "2\n",
      "2\n"
     ]
    }
   ],
   "source": [
    "#Q18. \n",
    "\n",
    "X=4 \n",
    "Y=2\n",
    "\n",
    "print(X % Y)\n",
    "print(X / Y)\n",
    "print(X // Y)\n",
    "print(Y % X)\n"
   ]
  },
  {
   "cell_type": "code",
   "execution_count": 142,
   "metadata": {},
   "outputs": [
    {
     "ename": "TypeError",
     "evalue": "'int' object is not iterable",
     "output_type": "error",
     "traceback": [
      "\u001b[1;31m---------------------------------------------------------------------------\u001b[0m",
      "\u001b[1;31mTypeError\u001b[0m                                 Traceback (most recent call last)",
      "\u001b[1;32m<ipython-input-142-6dedd4978133>\u001b[0m in \u001b[0;36m<module>\u001b[1;34m\u001b[0m\n\u001b[0;32m      2\u001b[0m \u001b[0mx\u001b[0m \u001b[1;33m=\u001b[0m \u001b[1;33m[\u001b[0m\u001b[1;33m[\u001b[0m\u001b[1;36m4\u001b[0m\u001b[1;33m,\u001b[0m \u001b[1;36m1\u001b[0m\u001b[1;33m,\u001b[0m \u001b[1;36m1\u001b[0m\u001b[1;33m]\u001b[0m\u001b[1;33m,\u001b[0m \u001b[1;33m[\u001b[0m\u001b[1;36m5\u001b[0m\u001b[1;33m,\u001b[0m \u001b[1;36m9\u001b[0m\u001b[1;33m,\u001b[0m \u001b[1;36m0\u001b[0m\u001b[1;33m]\u001b[0m\u001b[1;33m]\u001b[0m\u001b[1;33m\u001b[0m\u001b[1;33m\u001b[0m\u001b[0m\n\u001b[0;32m      3\u001b[0m \u001b[1;33m\u001b[0m\u001b[0m\n\u001b[1;32m----> 4\u001b[1;33m \u001b[1;32mfor\u001b[0m \u001b[0mi\u001b[0m \u001b[1;32min\u001b[0m \u001b[0mlen\u001b[0m\u001b[1;33m(\u001b[0m\u001b[0mx\u001b[0m\u001b[1;33m)\u001b[0m\u001b[1;33m:\u001b[0m\u001b[1;33m\u001b[0m\u001b[1;33m\u001b[0m\u001b[0m\n\u001b[0m\u001b[0;32m      5\u001b[0m \u001b[1;33m\u001b[0m\u001b[0m\n\u001b[0;32m      6\u001b[0m     \u001b[1;32mfor\u001b[0m \u001b[0mj\u001b[0m \u001b[1;32min\u001b[0m \u001b[0mrange\u001b[0m\u001b[1;33m(\u001b[0m\u001b[0mi\u001b[0m\u001b[1;33m)\u001b[0m\u001b[1;33m:\u001b[0m\u001b[1;33m\u001b[0m\u001b[1;33m\u001b[0m\u001b[0m\n",
      "\u001b[1;31mTypeError\u001b[0m: 'int' object is not iterable"
     ]
    }
   ],
   "source": [
    "# Q19. \n",
    "x = [[4, 1, 1], [5, 9, 0]]\n",
    " \n",
    "for i in len(x):\n",
    "    \n",
    "    for j in range(i):\n",
    "       print(j)\n",
    "       \n",
    " \n"
   ]
  },
  {
   "cell_type": "code",
   "execution_count": 143,
   "metadata": {},
   "outputs": [
    {
     "data": {
      "text/plain": [
       "3"
      ]
     },
     "execution_count": 143,
     "metadata": {},
     "output_type": "execute_result"
    }
   ],
   "source": [
    " 3*1**3"
   ]
  },
  {
   "cell_type": "code",
   "execution_count": 147,
   "metadata": {},
   "outputs": [
    {
     "ename": "TypeError",
     "evalue": "cannot unpack non-iterable float object",
     "output_type": "error",
     "traceback": [
      "\u001b[1;31m---------------------------------------------------------------------------\u001b[0m",
      "\u001b[1;31mTypeError\u001b[0m                                 Traceback (most recent call last)",
      "\u001b[1;32m<ipython-input-147-de67ad6d36c0>\u001b[0m in \u001b[0;36m<module>\u001b[1;34m\u001b[0m\n\u001b[0;32m      2\u001b[0m \u001b[1;33m\u001b[0m\u001b[0m\n\u001b[0;32m      3\u001b[0m \u001b[0mq\u001b[0m \u001b[1;33m=\u001b[0m \u001b[1;33m[\u001b[0m\u001b[1;36m10.62\u001b[0m\u001b[1;33m,\u001b[0m \u001b[1;36m16.14\u001b[0m\u001b[1;33m,\u001b[0m \u001b[1;36m6.45\u001b[0m\u001b[1;33m,\u001b[0m \u001b[1;36m17.11\u001b[0m\u001b[1;33m]\u001b[0m\u001b[1;33m\u001b[0m\u001b[1;33m\u001b[0m\u001b[0m\n\u001b[1;32m----> 4\u001b[1;33m \u001b[1;32mfor\u001b[0m \u001b[0mi\u001b[0m\u001b[1;33m,\u001b[0m \u001b[0mz\u001b[0m \u001b[1;32min\u001b[0m \u001b[0mq\u001b[0m\u001b[1;33m:\u001b[0m\u001b[1;33m\u001b[0m\u001b[1;33m\u001b[0m\u001b[0m\n\u001b[0m\u001b[0;32m      5\u001b[0m     \u001b[0mprint\u001b[0m\u001b[1;33m(\u001b[0m \u001b[1;34m'Item'\u001b[0m \u001b[1;33m+\u001b[0m \u001b[0mstr\u001b[0m\u001b[1;33m(\u001b[0m \u001b[0mj\u001b[0m \u001b[1;33m)\u001b[0m \u001b[1;33m+\u001b[0m \u001b[1;34m'-'\u001b[0m\u001b[1;33m,\u001b[0m \u001b[0mstr\u001b[0m \u001b[1;33m(\u001b[0m \u001b[0mz\u001b[0m \u001b[1;33m)\u001b[0m\u001b[1;33m)\u001b[0m\u001b[1;33m\u001b[0m\u001b[1;33m\u001b[0m\u001b[0m\n",
      "\u001b[1;31mTypeError\u001b[0m: cannot unpack non-iterable float object"
     ]
    }
   ],
   "source": [
    "#Q20. \n",
    "\n",
    "q = [10.62, 16.14, 6.45, 17.11]\n",
    "for i, z in q:\n",
    "    print( 'Item' + str( j ) + '-', str ( z ))\n"
   ]
  },
  {
   "cell_type": "code",
   "execution_count": null,
   "metadata": {},
   "outputs": [],
   "source": []
  }
 ],
 "metadata": {
  "kernelspec": {
   "display_name": "Python 3",
   "language": "python",
   "name": "python3"
  },
  "language_info": {
   "codemirror_mode": {
    "name": "ipython",
    "version": 3
   },
   "file_extension": ".py",
   "mimetype": "text/x-python",
   "name": "python",
   "nbconvert_exporter": "python",
   "pygments_lexer": "ipython3",
   "version": "3.7.3"
  }
 },
 "nbformat": 4,
 "nbformat_minor": 2
}
