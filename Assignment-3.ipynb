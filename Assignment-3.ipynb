{
 "cells": [
  {
   "cell_type": "code",
   "execution_count": null,
   "metadata": {},
   "outputs": [],
   "source": [
    "#Task 1 & 2\n",
    "#Python Program to Add a Key-Value Pair to the Dictionary\n",
    "\n",
    "flag = ''\n",
    "flag2 = ''\n",
    "dictionary1 = {}\n",
    "dictionary2 = {}\n",
    "while flag != 'no':\n",
    "    dictionary1.update({input(\"Enter key: \") : input(\"Enter value: \")})\n",
    "    flag = input(\"Do you want to enter details yes | no: \")\n",
    "    if flag == 'no':\n",
    "        flag2 = input(\"Do you want to add details in new Dictionary? yes | no: \")\n",
    "        while flag2 != 'no':\n",
    "            dictionary2.update({input(\"Enter key for dictionary2: \") : input(\"Enter value for dictionary2: \")})\n",
    "            flag2 = input(\"Do you want to enter details yes | no: \")\n",
    "    \n",
    "dictionary1.update(**dictionary1,**dictionary2)\n",
    "print(dictionary1)"
   ]
  },
  {
   "cell_type": "code",
   "execution_count": null,
   "metadata": {},
   "outputs": [],
   "source": []
  }
 ],
 "metadata": {
  "kernelspec": {
   "display_name": "Python 3",
   "language": "python",
   "name": "python3"
  },
  "language_info": {
   "codemirror_mode": {
    "name": "ipython",
    "version": 3
   },
   "file_extension": ".py",
   "mimetype": "text/x-python",
   "name": "python",
   "nbconvert_exporter": "python",
   "pygments_lexer": "ipython3",
   "version": "3.7.3"
  }
 },
 "nbformat": 4,
 "nbformat_minor": 2
}
