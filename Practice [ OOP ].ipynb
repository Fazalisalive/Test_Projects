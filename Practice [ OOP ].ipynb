{
 "cells": [
  {
   "cell_type": "markdown",
   "metadata": {},
   "source": [
    "# Pros and Cons of OOP:"
   ]
  },
  {
   "cell_type": "raw",
   "metadata": {},
   "source": [
    "https://stackabuse.com/object-oriented-programming-in-python/#introduction"
   ]
  },
  {
   "cell_type": "raw",
   "metadata": {},
   "source": [
    "Pros:\n",
    "\n",
    "It fosters;\n",
    "\n",
    "1. reusability\n",
    "2. maintainablity\n",
    "3. specificity/Identity\n",
    "4. security with encapsulation \n",
    "\n",
    "Cons:\n",
    "\n",
    "1. Detailed domain knowledge is needed to whether use OOP or not\n",
    "2. complexity of the program grows exponentially."
   ]
  },
  {
   "cell_type": "markdown",
   "metadata": {},
   "source": [
    "# Class"
   ]
  },
  {
   "cell_type": "raw",
   "metadata": {},
   "source": [
    "1. A class can be considered as a map for the house."
   ]
  },
  {
   "cell_type": "code",
   "execution_count": 31,
   "metadata": {},
   "outputs": [],
   "source": [
    "# Creates class Car\n",
    "class Car:\n",
    "\n",
    "    # create class attributes\n",
    "    name = \"c200\"\n",
    "    make = \"mercedez\"\n",
    "    model = 2008\n",
    "\n",
    "    # create class methods\n",
    "    def start(self):\n",
    "        print (\"Engine started\")\n",
    "\n",
    "    def stop(self):\n",
    "        print (\"Engine switched off\")"
   ]
  },
  {
   "cell_type": "markdown",
   "metadata": {},
   "source": [
    "# Objects"
   ]
  },
  {
   "cell_type": "raw",
   "metadata": {},
   "source": [
    "An object is also called an instance; therefore, the process of creating \n",
    "an object of a class is called instantiation"
   ]
  },
  {
   "cell_type": "code",
   "execution_count": 2,
   "metadata": {},
   "outputs": [],
   "source": [
    "# Creates car_a object of Car class\n",
    "car_a = Car()\n",
    "\n",
    "# Creates car_b object of car class\n",
    "car_b = Car()"
   ]
  },
  {
   "cell_type": "code",
   "execution_count": 32,
   "metadata": {},
   "outputs": [
    {
     "name": "stdout",
     "output_type": "stream",
     "text": [
      "<class '__main__.Car'>\n"
     ]
    }
   ],
   "source": [
    "# check the type of the objects\n",
    "print(type(car_b))"
   ]
  },
  {
   "cell_type": "code",
   "execution_count": 34,
   "metadata": {},
   "outputs": [
    {
     "ename": "TypeError",
     "evalue": "start() missing 3 required positional arguments: 'name', 'make', and 'model'",
     "output_type": "error",
     "traceback": [
      "\u001b[1;31m---------------------------------------------------------------------------\u001b[0m",
      "\u001b[1;31mTypeError\u001b[0m                                 Traceback (most recent call last)",
      "\u001b[1;32m<ipython-input-34-9979d5639f9d>\u001b[0m in \u001b[0;36m<module>\u001b[1;34m\u001b[0m\n\u001b[0;32m      1\u001b[0m \u001b[1;31m# access class attributes and call class method using the class object\u001b[0m\u001b[1;33m\u001b[0m\u001b[1;33m\u001b[0m\u001b[1;33m\u001b[0m\u001b[0m\n\u001b[1;32m----> 2\u001b[1;33m \u001b[0mcar_a\u001b[0m\u001b[1;33m.\u001b[0m\u001b[0mstart\u001b[0m\u001b[1;33m(\u001b[0m\u001b[1;33m)\u001b[0m\u001b[1;33m\u001b[0m\u001b[1;33m\u001b[0m\u001b[0m\n\u001b[0m",
      "\u001b[1;31mTypeError\u001b[0m: start() missing 3 required positional arguments: 'name', 'make', and 'model'"
     ]
    }
   ],
   "source": [
    "# access class attributes and call class method using the class object\n",
    "car_a.start()"
   ]
  },
  {
   "cell_type": "code",
   "execution_count": 35,
   "metadata": {},
   "outputs": [
    {
     "name": "stdout",
     "output_type": "stream",
     "text": [
      "2013\n"
     ]
    }
   ],
   "source": [
    "print(car_b.model)"
   ]
  },
  {
   "cell_type": "markdown",
   "metadata": {},
   "source": [
    "# Attributes"
   ]
  },
  {
   "cell_type": "raw",
   "metadata": {},
   "source": [
    "1. Default attributes and methods\n",
    "2. User-defined attributes."
   ]
  },
  {
   "cell_type": "code",
   "execution_count": 36,
   "metadata": {},
   "outputs": [
    {
     "data": {
      "text/plain": [
       "['__class__',\n",
       " '__delattr__',\n",
       " '__dict__',\n",
       " '__dir__',\n",
       " '__doc__',\n",
       " '__eq__',\n",
       " '__format__',\n",
       " '__ge__',\n",
       " '__getattribute__',\n",
       " '__gt__',\n",
       " '__hash__',\n",
       " '__init__',\n",
       " '__init_subclass__',\n",
       " '__le__',\n",
       " '__lt__',\n",
       " '__module__',\n",
       " '__ne__',\n",
       " '__new__',\n",
       " '__reduce__',\n",
       " '__reduce_ex__',\n",
       " '__repr__',\n",
       " '__setattr__',\n",
       " '__sizeof__',\n",
       " '__str__',\n",
       " '__subclasshook__',\n",
       " '__weakref__',\n",
       " 'car_count',\n",
       " 'make',\n",
       " 'model',\n",
       " 'name',\n",
       " 'start']"
      ]
     },
     "execution_count": 36,
     "metadata": {},
     "output_type": "execute_result"
    }
   ],
   "source": [
    "dir(car_b)"
   ]
  },
  {
   "cell_type": "markdown",
   "metadata": {},
   "source": [
    "# Class vs Instance Attributes"
   ]
  },
  {
   "cell_type": "raw",
   "metadata": {},
   "source": [
    "Attributes types;\n",
    "\n",
    "1. Class attributes - shared by all the objects of a class & are declared outside of any method\n",
    "2. Instance attributes - are the exclusive property of the instance & are declared inside any method"
   ]
  },
  {
   "cell_type": "code",
   "execution_count": 42,
   "metadata": {},
   "outputs": [],
   "source": [
    "class Car:\n",
    "\n",
    "    # create class attributes\n",
    "    car_count = 0\n",
    "\n",
    "    # create class methods\n",
    "    def start(self, name, make, model):\n",
    "        print (\"Engine started\")\n",
    "        self.name = name # Instance attributes\n",
    "        self.make = make # Instance attributes\n",
    "        self.model = model # Instance attributes\n",
    "        Car.car_count += 1 # Class attributes"
   ]
  },
  {
   "cell_type": "code",
   "execution_count": 43,
   "metadata": {},
   "outputs": [
    {
     "name": "stdout",
     "output_type": "stream",
     "text": [
      "Engine started\n",
      "Corrola\n",
      "1\n"
     ]
    }
   ],
   "source": [
    "car_a = Car()\n",
    "car_a.start(\"Corrola\", \"Toyota\", 2015)\n",
    "print(car_a.name)\n",
    "print(car_a.car_count)"
   ]
  },
  {
   "cell_type": "code",
   "execution_count": 44,
   "metadata": {},
   "outputs": [
    {
     "name": "stdout",
     "output_type": "stream",
     "text": [
      "Engine started\n",
      "City\n",
      "2\n"
     ]
    }
   ],
   "source": [
    "car_b = Car()\n",
    "car_b.start(\"City\", \"Honda\", 2013)\n",
    "print(car_b.name)\n",
    "print(car_b.car_count)\n"
   ]
  },
  {
   "cell_type": "markdown",
   "metadata": {},
   "source": [
    "# Methods"
   ]
  },
  {
   "cell_type": "raw",
   "metadata": {},
   "source": [
    "Static Methods:\n",
    "    that can be called directly using the class name"
   ]
  },
  {
   "cell_type": "code",
   "execution_count": 45,
   "metadata": {},
   "outputs": [
    {
     "name": "stdout",
     "output_type": "stream",
     "text": [
      "This is a car class\n"
     ]
    }
   ],
   "source": [
    "class Car:\n",
    "    \n",
    "    @staticmethod\n",
    "    def get_class_details():\n",
    "        print(\"This is a car class\")\n",
    "\n",
    "Car.get_class_details()"
   ]
  },
  {
   "cell_type": "raw",
   "metadata": {},
   "source": [
    "# Returning Multiple Values from a Method"
   ]
  },
  {
   "cell_type": "code",
   "execution_count": 48,
   "metadata": {},
   "outputs": [
    {
     "name": "stdout",
     "output_type": "stream",
     "text": [
      "(9, 25, 15)\n"
     ]
    }
   ],
   "source": [
    "class Square:\n",
    "    \n",
    "    @staticmethod\n",
    "    def get_squares(a,b):\n",
    "        return a*a, b*b, a*b\n",
    "\n",
    "print(Square.get_squares(3,5))\n",
    "    \n",
    "        "
   ]
  },
  {
   "cell_type": "raw",
   "metadata": {},
   "source": [
    "# The str Method:\n",
    "\n",
    "see what happens if we print the object of a class"
   ]
  },
  {
   "cell_type": "code",
   "execution_count": 49,
   "metadata": {},
   "outputs": [
    {
     "name": "stdout",
     "output_type": "stream",
     "text": [
      "<__main__.Car object at 0x0000027D6388C860>\n"
     ]
    }
   ],
   "source": [
    "class Car:\n",
    "    #creatte class method\n",
    "    def start(self):\n",
    "        print(\"Engine Started\")\n",
    "        \n",
    "car_a = Car()\n",
    "print(car_a) # car_a object is treated like as a string\n",
    "             # The output shows the memory location where our object is stored."
   ]
  },
  {
   "cell_type": "code",
   "execution_count": 51,
   "metadata": {},
   "outputs": [
    {
     "name": "stdout",
     "output_type": "stream",
     "text": [
      "car class object\n"
     ]
    }
   ],
   "source": [
    "class Car:\n",
    "    #creatte class method\n",
    "    def __str__(self):\n",
    "        return \"car class object\"\n",
    "    \n",
    "    def start(self):\n",
    "        print(\"Engine Started\")\n",
    "        \n",
    "car_a = Car()\n",
    "print(car_a) # car_a object is treated like as a string\n",
    "             # The output shows the memory location where our object is stored."
   ]
  },
  {
   "cell_type": "raw",
   "metadata": {},
   "source": [
    "In the script above, we override the __str__ method by providing our own \n",
    "custom definition for the method.\n",
    "\n",
    "Using this method you can create custom and more meaningful descriptions for when an object is printed."
   ]
  },
  {
   "cell_type": "markdown",
   "metadata": {},
   "source": [
    "# Constructors"
   ]
  },
  {
   "cell_type": "raw",
   "metadata": {},
   "source": [
    "A constructor is a special method that is called by default \n",
    "whenever you create an object of a class.\n",
    "\n",
    "To create a constructor, __init__ keyword is used.\n",
    "\n",
    "1. constructor is an ordinary method except the keyword __init__.\n",
    "2. You can pass and receive values to it\n",
    "3. usually used to initialize attribute values upon instantiating the class."
   ]
  },
  {
   "cell_type": "code",
   "execution_count": 53,
   "metadata": {},
   "outputs": [],
   "source": [
    "class Car:\n",
    "    \n",
    "    #create class attributes\n",
    "    car_count = 0\n",
    "    \n",
    "    #create class methods\n",
    "    def __init__(self):\n",
    "        Car.car_count += 1\n",
    "        print(Car.car_count)"
   ]
  },
  {
   "cell_type": "code",
   "execution_count": 54,
   "metadata": {},
   "outputs": [
    {
     "name": "stdout",
     "output_type": "stream",
     "text": [
      "1\n",
      "2\n",
      "3\n"
     ]
    }
   ],
   "source": [
    "car_a = Car()\n",
    "car_b = Car()\n",
    "car_c = Car()"
   ]
  },
  {
   "cell_type": "markdown",
   "metadata": {},
   "source": [
    "# Local vs Global Variables"
   ]
  },
  {
   "cell_type": "raw",
   "metadata": {},
   "source": [
    "Depending on the scope, variables can also be categorized into two types: Local variables and Global variables"
   ]
  },
  {
   "cell_type": "markdown",
   "metadata": {},
   "source": [
    "# Local Variables"
   ]
  },
  {
   "cell_type": "raw",
   "metadata": {},
   "source": [
    "A variable that can only be accessed inside the code block where it is defined"
   ]
  },
  {
   "cell_type": "code",
   "execution_count": 55,
   "metadata": {},
   "outputs": [],
   "source": [
    "# Creates class Car\n",
    "class Car:\n",
    "    def start(self):\n",
    "        message = \"Engine started\"\n",
    "        return message"
   ]
  },
  {
   "cell_type": "code",
   "execution_count": 56,
   "metadata": {},
   "outputs": [
    {
     "ename": "AttributeError",
     "evalue": "'Car' object has no attribute 'message'",
     "output_type": "error",
     "traceback": [
      "\u001b[1;31m---------------------------------------------------------------------------\u001b[0m",
      "\u001b[1;31mAttributeError\u001b[0m                            Traceback (most recent call last)",
      "\u001b[1;32m<ipython-input-56-84d1acdff806>\u001b[0m in \u001b[0;36m<module>\u001b[1;34m\u001b[0m\n\u001b[0;32m      1\u001b[0m \u001b[0mcar_a\u001b[0m \u001b[1;33m=\u001b[0m \u001b[0mCar\u001b[0m\u001b[1;33m(\u001b[0m\u001b[1;33m)\u001b[0m\u001b[1;33m\u001b[0m\u001b[1;33m\u001b[0m\u001b[0m\n\u001b[1;32m----> 2\u001b[1;33m \u001b[0mprint\u001b[0m\u001b[1;33m(\u001b[0m\u001b[0mcar_a\u001b[0m\u001b[1;33m.\u001b[0m\u001b[0mmessage\u001b[0m\u001b[1;33m)\u001b[0m\u001b[1;33m\u001b[0m\u001b[1;33m\u001b[0m\u001b[0m\n\u001b[0m",
      "\u001b[1;31mAttributeError\u001b[0m: 'Car' object has no attribute 'message'"
     ]
    }
   ],
   "source": [
    "car_a = Car()\n",
    "print(car_a.message)"
   ]
  },
  {
   "cell_type": "raw",
   "metadata": {},
   "source": [
    "This is because we cannot access the local variable outside the block in which the local variable is defined."
   ]
  },
  {
   "cell_type": "markdown",
   "metadata": {},
   "source": [
    "# Global Variables"
   ]
  },
  {
   "cell_type": "raw",
   "metadata": {},
   "source": [
    "A global variable can be accessed anywhere in the class."
   ]
  },
  {
   "cell_type": "code",
   "execution_count": 57,
   "metadata": {},
   "outputs": [],
   "source": [
    "class Car:\n",
    "    message1 = \"Engine started\"\n",
    "\n",
    "    def start(self):\n",
    "        message2 = \"Car started\"\n",
    "        return message2\n",
    "\n"
   ]
  },
  {
   "cell_type": "code",
   "execution_count": 58,
   "metadata": {},
   "outputs": [
    {
     "name": "stdout",
     "output_type": "stream",
     "text": [
      "Engine started\n"
     ]
    }
   ],
   "source": [
    "car_a = Car()\n",
    "print(car_a.message1)"
   ]
  },
  {
   "cell_type": "raw",
   "metadata": {},
   "source": [
    "Normally local attribute is defined with the self-keyword."
   ]
  },
  {
   "cell_type": "markdown",
   "metadata": {},
   "source": [
    "# Access Modifiers"
   ]
  },
  {
   "cell_type": "raw",
   "metadata": {},
   "source": [
    "1. public [ No prefix is used ], (accessed anywhere inside or outside the class)\n",
    "2. private [ __variableName ], (can only be accessed inside the class)\n",
    "3. protected [ _variableName ]. (can be accessed within the same package)\n",
    "\n",
    "Modifiers are used to modify the default scope of variables."
   ]
  },
  {
   "cell_type": "code",
   "execution_count": 69,
   "metadata": {},
   "outputs": [],
   "source": [
    "class Car:\n",
    "    def __init__(self):\n",
    "        print (\"Engine started\")\n",
    "        self.name = \"corolla\" # public variable\n",
    "        self.__make = \"toyota\" # Private varibale\n",
    "        self._model = 1999 # protected variable"
   ]
  },
  {
   "cell_type": "code",
   "execution_count": 70,
   "metadata": {},
   "outputs": [
    {
     "name": "stdout",
     "output_type": "stream",
     "text": [
      "Engine started\n",
      "corolla\n"
     ]
    }
   ],
   "source": [
    "car_a = Car()\n",
    "print(car_a.name)"
   ]
  },
  {
   "cell_type": "code",
   "execution_count": 71,
   "metadata": {},
   "outputs": [
    {
     "ename": "AttributeError",
     "evalue": "'Car' object has no attribute 'model'",
     "output_type": "error",
     "traceback": [
      "\u001b[1;31m---------------------------------------------------------------------------\u001b[0m",
      "\u001b[1;31mAttributeError\u001b[0m                            Traceback (most recent call last)",
      "\u001b[1;32m<ipython-input-71-89c5bf6256ff>\u001b[0m in \u001b[0;36m<module>\u001b[1;34m\u001b[0m\n\u001b[1;32m----> 1\u001b[1;33m \u001b[0mprint\u001b[0m\u001b[1;33m(\u001b[0m\u001b[0mcar_a\u001b[0m\u001b[1;33m.\u001b[0m\u001b[0mmodel\u001b[0m\u001b[1;33m)\u001b[0m\u001b[1;33m\u001b[0m\u001b[1;33m\u001b[0m\u001b[0m\n\u001b[0m",
      "\u001b[1;31mAttributeError\u001b[0m: 'Car' object has no attribute 'model'"
     ]
    }
   ],
   "source": [
    "print(car_a.model)"
   ]
  },
  {
   "cell_type": "code",
   "execution_count": 61,
   "metadata": {},
   "outputs": [
    {
     "ename": "AttributeError",
     "evalue": "'Car' object has no attribute 'make'",
     "output_type": "error",
     "traceback": [
      "\u001b[1;31m---------------------------------------------------------------------------\u001b[0m",
      "\u001b[1;31mAttributeError\u001b[0m                            Traceback (most recent call last)",
      "\u001b[1;32m<ipython-input-61-d3cec27cc813>\u001b[0m in \u001b[0;36m<module>\u001b[1;34m\u001b[0m\n\u001b[1;32m----> 1\u001b[1;33m \u001b[0mprint\u001b[0m\u001b[1;33m(\u001b[0m\u001b[0mcar_a\u001b[0m\u001b[1;33m.\u001b[0m\u001b[0mmake\u001b[0m\u001b[1;33m)\u001b[0m\u001b[1;33m\u001b[0m\u001b[1;33m\u001b[0m\u001b[0m\n\u001b[0m",
      "\u001b[1;31mAttributeError\u001b[0m: 'Car' object has no attribute 'make'"
     ]
    }
   ],
   "source": [
    "print(car_a.make)"
   ]
  },
  {
   "cell_type": "markdown",
   "metadata": {},
   "source": [
    "# Inheritance"
   ]
  },
  {
   "cell_type": "raw",
   "metadata": {},
   "source": [
    "The basic idea is that a class can inherit the characteristics of another class\n",
    "\n",
    "It is amazing because of re-usability.\n",
    "\n",
    "1. The class which inherits another class is called the child class or derived class\n",
    "2. The class which is inherited by another class is called parent or base class"
   ]
  },
  {
   "cell_type": "code",
   "execution_count": 72,
   "metadata": {},
   "outputs": [],
   "source": [
    "# Class vehicle\n",
    "\n",
    "class vehicle:\n",
    "    \n",
    "    # parant class methos\n",
    "    def vehicle_method(self):\n",
    "        print(\"This is parant class method\")\n",
    "        \n",
    "class Car(vehicle):\n",
    "    \n",
    "    # child class methos\n",
    "    def car_method(self):\n",
    "        print(\"This is child class method\")\n",
    "        \n"
   ]
  },
  {
   "cell_type": "code",
   "execution_count": 73,
   "metadata": {},
   "outputs": [
    {
     "name": "stdout",
     "output_type": "stream",
     "text": [
      "This is parant class method\n"
     ]
    }
   ],
   "source": [
    "car_a = Car()\n",
    "car_a.vehicle_method() # Calling parent class method"
   ]
  },
  {
   "cell_type": "markdown",
   "metadata": {},
   "source": [
    "Single Parant Multiple Child Classes Scenario:"
   ]
  },
  {
   "cell_type": "code",
   "execution_count": 74,
   "metadata": {},
   "outputs": [],
   "source": [
    "# Create Class Vehicle\n",
    "class Vehicle:\n",
    "    def vehicle_method(self):\n",
    "        print(\"This is parent Vehicle class method\")\n",
    "\n",
    "# Create Class Car that inherits Vehicle\n",
    "class Car(Vehicle):\n",
    "    def car_method(self):\n",
    "        print(\"This is child Car class method\")\n",
    "\n",
    "# Create Class Cycle that inherits Vehicle\n",
    "class Cycle(Vehicle):\n",
    "    def cycleMethod(self):\n",
    "        print(\"This is child Cycle class method\")"
   ]
  },
  {
   "cell_type": "code",
   "execution_count": 75,
   "metadata": {},
   "outputs": [
    {
     "name": "stdout",
     "output_type": "stream",
     "text": [
      "This is parent Vehicle class method\n",
      "This is parent Vehicle class method\n"
     ]
    }
   ],
   "source": [
    "car_a = Car()\n",
    "car_a.vehicle_method() # Calling parent class method\n",
    "car_b = Cycle()\n",
    "car_b.vehicle_method() # Calling parent class method"
   ]
  },
  {
   "cell_type": "markdown",
   "metadata": {},
   "source": [
    "Single Child Multiple Parant Classes Scenario:"
   ]
  },
  {
   "cell_type": "code",
   "execution_count": 76,
   "metadata": {},
   "outputs": [],
   "source": [
    "class Camera:\n",
    "    def camera_method(self):\n",
    "        print(\"This is parent Camera class method\")\n",
    "\n",
    "class Radio:\n",
    "    def radio_method(self):\n",
    "        print(\"This is parent Radio class method\")\n",
    "\n",
    "class CellPhone(Camera, Radio):\n",
    "     def cell_phone_method(self):\n",
    "        print(\"This is child CellPhone class method\")"
   ]
  },
  {
   "cell_type": "code",
   "execution_count": 77,
   "metadata": {},
   "outputs": [
    {
     "name": "stdout",
     "output_type": "stream",
     "text": [
      "This is parent Camera class method\n",
      "This is parent Radio class method\n"
     ]
    }
   ],
   "source": [
    "cell_phone_a = CellPhone()\n",
    "cell_phone_a.camera_method()\n",
    "cell_phone_a.radio_method()"
   ]
  },
  {
   "cell_type": "markdown",
   "metadata": {},
   "source": [
    "# Polymorphism"
   ]
  },
  {
   "cell_type": "raw",
   "metadata": {},
   "source": [
    "1. The term polymorphism literally means having multiple forms.\n",
    "\n",
    "2. In OOP, polymorphism refers to the ability of an object to behave in multiple ways.\n",
    "\n",
    "3. Polymorphism in programming is implemented via method-overloading and method overriding"
   ]
  },
  {
   "cell_type": "markdown",
   "metadata": {},
   "source": [
    "Method Overloading :"
   ]
  },
  {
   "cell_type": "raw",
   "metadata": {},
   "source": [
    "It refers to the property of a method to behave in different ways depending upon \n",
    "the number or types of the parameters"
   ]
  },
  {
   "cell_type": "code",
   "execution_count": 78,
   "metadata": {},
   "outputs": [],
   "source": [
    "# Creates class Car\n",
    "class Car:\n",
    "   def start(self, a, b=None):\n",
    "        if b is not None:\n",
    "            print (a + b)\n",
    "        else:\n",
    "            print (a)"
   ]
  },
  {
   "cell_type": "code",
   "execution_count": 79,
   "metadata": {},
   "outputs": [
    {
     "name": "stdout",
     "output_type": "stream",
     "text": [
      "10\n"
     ]
    }
   ],
   "source": [
    "car_a = Car()\n",
    "car_a.start(10)"
   ]
  },
  {
   "cell_type": "code",
   "execution_count": 80,
   "metadata": {},
   "outputs": [
    {
     "name": "stdout",
     "output_type": "stream",
     "text": [
      "30\n"
     ]
    }
   ],
   "source": [
    "car_a.start(10,20)"
   ]
  },
  {
   "cell_type": "markdown",
   "metadata": {},
   "source": [
    "Method Overriding :"
   ]
  },
  {
   "cell_type": "raw",
   "metadata": {},
   "source": [
    "Method overriding refers to having a method with the same name in the child class as in the parent class. \n",
    "The definition of the method differs in parent and child classes but the name remains the same."
   ]
  },
  {
   "cell_type": "code",
   "execution_count": 81,
   "metadata": {},
   "outputs": [],
   "source": [
    "# Create Class Vehicle\n",
    "class Vehicle:\n",
    "    def print_details(self):\n",
    "        print(\"This is parent Vehicle class method\")\n",
    "\n",
    "# Create Class Car that inherits Vehicle\n",
    "class Car(Vehicle):\n",
    "    def print_details(self):\n",
    "        print(\"This is child Car class method\")\n",
    "\n",
    "# Create Class Cycle that inherits Vehicle\n",
    "class Cycle(Vehicle):\n",
    "    def print_details(self):\n",
    "        print(\"This is child Cycle class method\")"
   ]
  },
  {
   "cell_type": "markdown",
   "metadata": {},
   "source": [
    "The output will depend upon the object through which the method is being called. Lets see:"
   ]
  },
  {
   "cell_type": "code",
   "execution_count": 82,
   "metadata": {},
   "outputs": [
    {
     "name": "stdout",
     "output_type": "stream",
     "text": [
      "This is parent Vehicle class method\n",
      "This is child Car class method\n",
      "This is child Cycle class method\n"
     ]
    }
   ],
   "source": [
    "car_a = Vehicle()\n",
    "car_a. print_details()\n",
    "\n",
    "car_b = Car()\n",
    "car_b.print_details()\n",
    "\n",
    "car_c = Cycle()\n",
    "car_c.print_details()"
   ]
  },
  {
   "cell_type": "markdown",
   "metadata": {},
   "source": [
    "# Encapsulation"
   ]
  },
  {
   "cell_type": "raw",
   "metadata": {},
   "source": [
    "1. Encapsulation simply refers to data hiding.\n",
    "\n",
    "2. As a general principle, in OOP, one class should not have direct access to the data of the other class\n",
    "\n",
    "3. The access should be controlled via class methods.\n",
    "\n",
    "NOTE: To provide controlled access to class data in Python, the access modifiers and properties are used."
   ]
  },
  {
   "cell_type": "code",
   "execution_count": 84,
   "metadata": {},
   "outputs": [],
   "source": [
    "# Creates class Car\n",
    "class Car:\n",
    "\n",
    "    # Creates Car class constructor\n",
    "    def __init__(self, model):\n",
    "        # initialize instance variables\n",
    "        self.model = model\n",
    "\n",
    "    # Creates model property\n",
    "    @property\n",
    "    def model(self):\n",
    "        return self.__model\n",
    "\n",
    "    # Create property setter\n",
    "    @model.setter\n",
    "    def model(self, model):\n",
    "        if model < 2000:\n",
    "            self.__model = 2000\n",
    "        elif model > 2018:\n",
    "            self.__model = 2018\n",
    "        else:\n",
    "            self.__model = model\n",
    "\n",
    "    def getCarModel(self):\n",
    "        return \"The car model is \" + str(self.model)\n"
   ]
  },
  {
   "cell_type": "code",
   "execution_count": 85,
   "metadata": {},
   "outputs": [
    {
     "name": "stdout",
     "output_type": "stream",
     "text": [
      "The car model is 2018\n"
     ]
    }
   ],
   "source": [
    "    \n",
    "carA = Car(2088)\n",
    "print(carA.getCarModel())"
   ]
  },
  {
   "cell_type": "markdown",
   "metadata": {},
   "source": [
    "# The End"
   ]
  },
  {
   "cell_type": "code",
   "execution_count": null,
   "metadata": {},
   "outputs": [],
   "source": []
  }
 ],
 "metadata": {
  "kernelspec": {
   "display_name": "Python 3",
   "language": "python",
   "name": "python3"
  },
  "language_info": {
   "codemirror_mode": {
    "name": "ipython",
    "version": 3
   },
   "file_extension": ".py",
   "mimetype": "text/x-python",
   "name": "python",
   "nbconvert_exporter": "python",
   "pygments_lexer": "ipython3",
   "version": "3.7.3"
  }
 },
 "nbformat": 4,
 "nbformat_minor": 2
}
