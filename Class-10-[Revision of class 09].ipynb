{
 "cells": [
  {
   "cell_type": "code",
   "execution_count": 13,
   "metadata": {},
   "outputs": [
    {
     "name": "stdout",
     "output_type": "stream",
     "text": [
      "enter mark: 55\n",
      "Grade = E\n"
     ]
    }
   ],
   "source": [
    "marks = int(input(\"enter mark: \"))\n",
    "\n",
    "if marks >= 90:\n",
    "    print(\"Grade = A\")\n",
    "\n",
    "elif marks > 80 and marks < 90:\n",
    "    print(\"Grade = B\")\n",
    "\n",
    "elif marks > 70 and marks < 80:\n",
    "    print(\"Grade = C\")\n",
    "\n",
    "elif marks > 60 and marks < 70:\n",
    "    print(\"Grade = D\")\n",
    "\n",
    "elif marks < 60:\n",
    "    print(\"Grade = E\")\n"
   ]
  },
  {
   "cell_type": "code",
   "execution_count": 14,
   "metadata": {},
   "outputs": [
    {
     "name": "stdout",
     "output_type": "stream",
     "text": [
      "enter mark: 34\n",
      "Grade = E\n"
     ]
    }
   ],
   "source": [
    "marks = int(input(\"enter mark: \"))\n",
    "\n",
    "if marks >= 90:\n",
    "    print(\"Grade = A\")\n",
    "\n",
    "elif marks >= 80:\n",
    "    print(\"Grade = B\")\n",
    "\n",
    "elif marks >= 70:\n",
    "    print(\"Grade = C\")\n",
    "\n",
    "elif marks >= 60:\n",
    "    print(\"Grade = D\")\n",
    "\n",
    "elif marks < 60:\n",
    "    print(\"Grade = E\")\n"
   ]
  },
  {
   "cell_type": "code",
   "execution_count": 5,
   "metadata": {},
   "outputs": [
    {
     "name": "stdout",
     "output_type": "stream",
     "text": [
      "Enter Day: sunday\n",
      "Enter time: 8\n",
      "If the DVD is scrached yes | no yes\n",
      "You have to pay:  3.113 $\n"
     ]
    }
   ],
   "source": [
    "costpernight = ''\n",
    "\n",
    "day = input(\"Enter Day: \")\n",
    "time = int(input(\"Enter time: \"))\n",
    "dvd = input(\"If the DVD is scrached yes | no \")\n",
    "\n",
    "if day != 'sunday' and time <= 8 and dvd == 'no':\n",
    "    costperday = 1.59\n",
    "    print(\"You have to pay: \", costperday,\"$\")\n",
    "    \n",
    "elif day != 'sunday' and  time > 8 and dvd == 'yes':\n",
    "    costperday = 1.59*2+1\n",
    "    print(\"You have to pay: \", costperday,\"$\")\n",
    "    \n",
    "elif day == 'sunday'and dvd == 'no':\n",
    "    costperday = 1.59 - (1.59*30/100)\n",
    "    print(\"You have to pay: \", costperday,\"$\")\n",
    "    \n",
    "elif day == 'sunday'and dvd == 'yes':\n",
    "    costperday = 1.59 - (1.59*30/100) + 2\n",
    "    print(\"You have to pay: \", costperday,\"$\")"
   ]
  },
  {
   "cell_type": "code",
   "execution_count": 20,
   "metadata": {},
   "outputs": [
    {
     "name": "stdout",
     "output_type": "stream",
     "text": [
      "['banana', 'cherry', 'orange', 'kiwi']\n",
      "['banana', 'cherry', 'orange', 'kiwi']\n",
      "['apple', 'banana', 'cherry', 'orange', 'kiwi']\n",
      "['apple', 'cherry', 'kiwi', 'mango']\n",
      "[]\n",
      "['kiwi', 'orange', 'cherry', 'banana']\n",
      "['kiwi', 'orange', 'cherry', 'banana']\n"
     ]
    }
   ],
   "source": [
    "fruit = [\"apple\", \"banana\", \"cherry\", \"orange\", \"kiwi\", \"melon\", \"mango\"]\n",
    "print(fruit[1:5])\n",
    "print(fruit[-6:-2])\n",
    "print(fruit[-7:5:1])\n",
    "    \n",
    "\n",
    "#left to right => positive increment\n",
    "#Right to left => negetive increment\n",
    "print(fruit[-7::2])\n",
    "print(fruit[4:-7:1])\n",
    "print(fruit[4:-7:-1])\n",
    "print(fruit[-3:0:-1])"
   ]
  },
  {
   "cell_type": "code",
   "execution_count": 25,
   "metadata": {},
   "outputs": [
    {
     "name": "stdout",
     "output_type": "stream",
     "text": [
      "['E2', 'E3', 'E4', 'E5', 'E6', 'E7', 'M8']\n",
      "['E1', 'E2', 'E3', 'E4', 'E5', 'E6', 'E7']\n",
      "['E2', 'E3', 'E4', 'E5', 'E6', 'E7']\n",
      "['E1', 'E2', 'E3', 'E4', 'E5', 'E6', 'E7']\n"
     ]
    }
   ],
   "source": [
    "name = ['E1','E2','E3','E4','E5','E6','E7','M8','M9','M10','M11','M12']\n",
    "\n",
    "print(name[1:-4])\n",
    "print(name[:-5])\n",
    "print(name[1:-5])\n",
    "print(name[0:-5])"
   ]
  },
  {
   "cell_type": "code",
   "execution_count": 33,
   "metadata": {},
   "outputs": [
    {
     "name": "stdout",
     "output_type": "stream",
     "text": [
      "i * 2 =  2 $\n",
      "i * 2 =  6 $\n",
      "i * 2 =  10 $\n",
      "i * 2 =  14 $\n",
      "i * 2 =  18 $\n"
     ]
    }
   ],
   "source": [
    "for i in range(1,10,2):\n",
    "    print(\"i * 2 = \",str(i*2), \"$\")\n"
   ]
  },
  {
   "cell_type": "code",
   "execution_count": 43,
   "metadata": {},
   "outputs": [
    {
     "name": "stdout",
     "output_type": "stream",
     "text": [
      "0  1  2  /n\n",
      "0  2  4  /n\n",
      "0  3  6  /n\n",
      "0  4  8  /n\n"
     ]
    }
   ],
   "source": [
    "for i in range(1,5):\n",
    "    for j in range(0,3):\n",
    "        print(str(i*j),\" \", end='')\n",
    "    print('/n')\n"
   ]
  },
  {
   "cell_type": "code",
   "execution_count": 44,
   "metadata": {},
   "outputs": [
    {
     "name": "stdout",
     "output_type": "stream",
     "text": [
      "Yuiiiii...\n",
      "Yuiiiii...\n",
      "Yuiiiii...\n",
      "Yuiiiii...\n",
      "Yuiiiii...\n",
      "Yuiiiii...\n",
      "Yuiiiii...\n",
      "Yuiiiii...\n",
      "Yuiiiii...\n",
      "Yuiiiii...\n",
      "Yuiiiii...\n",
      "Total liter= 11\n"
     ]
    }
   ],
   "source": [
    "sach = False\n",
    "counter = 0\n",
    "\n",
    "while (sach != True):\n",
    "    if counter == 10:\n",
    "        sach = True\n",
    "    counter +=1 \n",
    "    print('Yuiiiii...')\n",
    "print('Total liter= ' + str(counter))"
   ]
  },
  {
   "cell_type": "code",
   "execution_count": 6,
   "metadata": {},
   "outputs": [
    {
     "name": "stdout",
     "output_type": "stream",
     "text": [
      "1\n",
      "2\n",
      "3\n",
      "4\n",
      "5\n",
      "6\n"
     ]
    }
   ],
   "source": [
    "list1 = [1,2,3,4,5,6,7,8,9,10]\n",
    "index = 0\n",
    "while (index < 10):\n",
    "    print(list1[index])\n",
    "    if list1[index] == 6:\n",
    "        break\n",
    "    else :\n",
    "        index +=1\n"
   ]
  },
  {
   "cell_type": "markdown",
   "metadata": {},
   "source": [
    "# What id Dictionary?"
   ]
  },
  {
   "cell_type": "code",
   "execution_count": 9,
   "metadata": {},
   "outputs": [
    {
     "data": {
      "text/plain": [
       "{'name': 'fazal',\n",
       " 'age': 34,\n",
       " 'job': 'AIE',\n",
       " 'hobbies': ['Reading', 'Gaming', 'Programing']}"
      ]
     },
     "execution_count": 9,
     "metadata": {},
     "output_type": "execute_result"
    }
   ],
   "source": [
    "personData = {\n",
    "    \"name\":\"fazal\",\n",
    "    \"age\": 34,\n",
    "    \"job\": \"AIE\",\n",
    "    \n",
    "}\n",
    "hobbies = [\"Reading\",\"Gaming\",\"Programing\"]\n",
    "personData[\"hobbies\"] = hobbies\n",
    "personData"
   ]
  },
  {
   "cell_type": "code",
   "execution_count": 11,
   "metadata": {},
   "outputs": [
    {
     "data": {
      "text/plain": [
       "{'name': 'fazal',\n",
       " 'age': 34,\n",
       " 'job': 'AIE',\n",
       " 'hobbies': ['Reading', 'Gaming', 'Programing']}"
      ]
     },
     "execution_count": 11,
     "metadata": {},
     "output_type": "execute_result"
    }
   ],
   "source": [
    "personData.update({\n",
    "    \"hobbies\": hobbies\n",
    "})\n",
    "personData"
   ]
  },
  {
   "cell_type": "code",
   "execution_count": 12,
   "metadata": {},
   "outputs": [
    {
     "data": {
      "text/plain": [
       "{'name': 'fazal',\n",
       " 'age': 34,\n",
       " 'job': 'AIE',\n",
       " 'hobbies': ['Reading', 'Gaming', 'Programing']}"
      ]
     },
     "execution_count": 12,
     "metadata": {},
     "output_type": "execute_result"
    }
   ],
   "source": [
    "personData"
   ]
  },
  {
   "cell_type": "code",
   "execution_count": 18,
   "metadata": {},
   "outputs": [],
   "source": [
    "workExperience = {\"name\" : \"ali\",\"title\": \"ALD\",\"startDate\": 2018,\"endDate\": 2019}"
   ]
  },
  {
   "cell_type": "code",
   "execution_count": 19,
   "metadata": {},
   "outputs": [
    {
     "data": {
      "text/plain": [
       "{'name': 'ali',\n",
       " 'age': 34,\n",
       " 'job': 'AIE',\n",
       " 'hobbies': ['Reading', 'Gaming', 'Programing'],\n",
       " 'title': 'ALD',\n",
       " 'startDate': 2018,\n",
       " 'endDate': 2019,\n",
       " 'Experience': {'name': 'ali',\n",
       "  'title': 'ALD',\n",
       "  'startDate': 2018,\n",
       "  'endDate': 2019}}"
      ]
     },
     "execution_count": 19,
     "metadata": {},
     "output_type": "execute_result"
    }
   ],
   "source": [
    "personData.update({\n",
    "    \"Experience\": workExperience\n",
    "})\n",
    "personData"
   ]
  },
  {
   "cell_type": "code",
   "execution_count": 20,
   "metadata": {},
   "outputs": [
    {
     "name": "stdout",
     "output_type": "stream",
     "text": [
      "None\n"
     ]
    }
   ],
   "source": [
    "print(personData.get(\"nam\"))"
   ]
  },
  {
   "cell_type": "code",
   "execution_count": 25,
   "metadata": {},
   "outputs": [
    {
     "data": {
      "text/plain": [
       "['__class__',\n",
       " '__contains__',\n",
       " '__delattr__',\n",
       " '__delitem__',\n",
       " '__dir__',\n",
       " '__doc__',\n",
       " '__eq__',\n",
       " '__format__',\n",
       " '__ge__',\n",
       " '__getattribute__',\n",
       " '__getitem__',\n",
       " '__gt__',\n",
       " '__hash__',\n",
       " '__init__',\n",
       " '__init_subclass__',\n",
       " '__iter__',\n",
       " '__le__',\n",
       " '__len__',\n",
       " '__lt__',\n",
       " '__ne__',\n",
       " '__new__',\n",
       " '__reduce__',\n",
       " '__reduce_ex__',\n",
       " '__repr__',\n",
       " '__setattr__',\n",
       " '__setitem__',\n",
       " '__sizeof__',\n",
       " '__str__',\n",
       " '__subclasshook__',\n",
       " 'clear',\n",
       " 'copy',\n",
       " 'fromkeys',\n",
       " 'get',\n",
       " 'items',\n",
       " 'keys',\n",
       " 'pop',\n",
       " 'popitem',\n",
       " 'setdefault',\n",
       " 'update',\n",
       " 'values']"
      ]
     },
     "execution_count": 25,
     "metadata": {},
     "output_type": "execute_result"
    }
   ],
   "source": [
    "dir(dict)"
   ]
  },
  {
   "cell_type": "code",
   "execution_count": 26,
   "metadata": {},
   "outputs": [
    {
     "name": "stdout",
     "output_type": "stream",
     "text": [
      "Please enter ID: 1\n",
      "Please enter Name: Ali\n",
      "Please enter Skills: coding excel C++\n",
      "Enter x to exit or any other key to continue: yes\n",
      "Please enter ID: 2\n",
      "Please enter Name: Fazal\n",
      "Please enter Skills: asp C#\n",
      "Enter x to exit or any other key to continue: no\n",
      "Please enter ID: 3\n",
      "Please enter Name: shazad\n",
      "Please enter Skills: asd fgh\n",
      "Enter x to exit or any other key to continue: x\n"
     ]
    },
    {
     "data": {
      "text/plain": [
       "[{'id': '1', 'name': 'Ali', 'skills': ['coding', 'excel', 'C++']},\n",
       " {'id': '2', 'name': 'Fazal', 'skills': ['asp', 'C#']},\n",
       " {'id': '3', 'name': 'shazad', 'skills': ['asd', 'fgh']}]"
      ]
     },
     "execution_count": 26,
     "metadata": {},
     "output_type": "execute_result"
    }
   ],
   "source": [
    "lst = []\n",
    "chk = ''\n",
    "while chk.lower() != 'x':\n",
    "    dict1 = {\n",
    "        \"id\": input(\"Please enter ID: \"),\n",
    "        \"name\": input(\"Please enter Name: \"),\n",
    "        \"skills\": input(\"Please enter Skills: \").split()\n",
    "    }\n",
    "    lst.append(dict1)\n",
    "    chk = input(\"Enter x to exit or any other key to continue: \")\n",
    "lst"
   ]
  },
  {
   "cell_type": "code",
   "execution_count": 31,
   "metadata": {},
   "outputs": [
    {
     "name": "stdout",
     "output_type": "stream",
     "text": [
      "Please enter name: fazal\n",
      "Course : math\n",
      "Marks :78\n",
      "Please enter Skills: a,b,c,d,e\n",
      "Enter x to exit or any other key to continue: x\n",
      "Your Dictionary is:  [{'name': 'fazal', 'marks': {'math': '78'}, 'skills': ['a', 'b', 'c', 'd', 'e']}]\n"
     ]
    }
   ],
   "source": [
    "lst = []\n",
    "chk = ''\n",
    "while chk.lower() != 'x':\n",
    "    dict1 = {\n",
    "        \"name\": input(\"Please enter name: \"),\n",
    "        \"marks\": {input(\"Course : \") : input(\"Marks :\")},\n",
    "        \"skills\": input(\"Please enter Skills: \").split(',')\n",
    "    }\n",
    "    lst.append(dict1)\n",
    "    chk = input(\"Enter x to exit or any other key to continue: \")\n",
    "print(\"Your Dictionary is: \",lst)"
   ]
  },
  {
   "cell_type": "code",
   "execution_count": null,
   "metadata": {},
   "outputs": [],
   "source": []
  }
 ],
 "metadata": {
  "kernelspec": {
   "display_name": "Python 3",
   "language": "python",
   "name": "python3"
  },
  "language_info": {
   "codemirror_mode": {
    "name": "ipython",
    "version": 3
   },
   "file_extension": ".py",
   "mimetype": "text/x-python",
   "name": "python",
   "nbconvert_exporter": "python",
   "pygments_lexer": "ipython3",
   "version": "3.7.3"
  }
 },
 "nbformat": 4,
 "nbformat_minor": 2
}
