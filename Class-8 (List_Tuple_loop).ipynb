{
 "cells": [
  {
   "cell_type": "markdown",
   "metadata": {},
   "source": [
    "# List"
   ]
  },
  {
   "cell_type": "code",
   "execution_count": 1,
   "metadata": {},
   "outputs": [
    {
     "name": "stdout",
     "output_type": "stream",
     "text": [
      "C\n",
      "C\n"
     ]
    }
   ],
   "source": [
    "# we can save diffirent data types in list\n",
    "\n",
    "name = [\"A\", \"B\", \"C\"]\n",
    "print(name[2])\n",
    "print(name[-1])\n"
   ]
  },
  {
   "cell_type": "code",
   "execution_count": 6,
   "metadata": {
    "scrolled": true
   },
   "outputs": [
    {
     "data": {
      "text/plain": [
       "['__add__',\n",
       " '__class__',\n",
       " '__contains__',\n",
       " '__delattr__',\n",
       " '__delitem__',\n",
       " '__dir__',\n",
       " '__doc__',\n",
       " '__eq__',\n",
       " '__format__',\n",
       " '__ge__',\n",
       " '__getattribute__',\n",
       " '__getitem__',\n",
       " '__gt__',\n",
       " '__hash__',\n",
       " '__iadd__',\n",
       " '__imul__',\n",
       " '__init__',\n",
       " '__init_subclass__',\n",
       " '__iter__',\n",
       " '__le__',\n",
       " '__len__',\n",
       " '__lt__',\n",
       " '__mul__',\n",
       " '__ne__',\n",
       " '__new__',\n",
       " '__reduce__',\n",
       " '__reduce_ex__',\n",
       " '__repr__',\n",
       " '__reversed__',\n",
       " '__rmul__',\n",
       " '__setattr__',\n",
       " '__setitem__',\n",
       " '__sizeof__',\n",
       " '__str__',\n",
       " '__subclasshook__',\n",
       " 'append',\n",
       " 'clear',\n",
       " 'copy',\n",
       " 'count',\n",
       " 'extend',\n",
       " 'index',\n",
       " 'insert',\n",
       " 'pop',\n",
       " 'remove',\n",
       " 'reverse',\n",
       " 'sort']"
      ]
     },
     "execution_count": 6,
     "metadata": {},
     "output_type": "execute_result"
    }
   ],
   "source": [
    "dir(list)"
   ]
  },
  {
   "cell_type": "code",
   "execution_count": 5,
   "metadata": {},
   "outputs": [
    {
     "data": {
      "text/plain": [
       "['A', 'B', 'C', 3]"
      ]
     },
     "execution_count": 5,
     "metadata": {},
     "output_type": "execute_result"
    }
   ],
   "source": [
    "name = [] #empty list\n",
    "name.append(\"A\")\n",
    "name.append(\"B\")\n",
    "name.append(\"C\")\n",
    "\n",
    "name.append(3)\n",
    "name"
   ]
  },
  {
   "cell_type": "code",
   "execution_count": 7,
   "metadata": {},
   "outputs": [
    {
     "name": "stdout",
     "output_type": "stream",
     "text": [
      "['A', 'B', 'C']\n",
      "[]\n"
     ]
    }
   ],
   "source": [
    "name = ['A','B','C']\n",
    "print(name)\n",
    "name.clear()\n",
    "print(name) #once cleared you can not retrive the data back"
   ]
  },
  {
   "cell_type": "code",
   "execution_count": 9,
   "metadata": {},
   "outputs": [
    {
     "name": "stdout",
     "output_type": "stream",
     "text": [
      "name ['A', 'B', 'C']\n",
      "name ['A', 'B', 'C']\n",
      "name ['Pakistan', 'B', 'C']\n",
      "name ['Pakistan', 'B', 'C']\n"
     ]
    }
   ],
   "source": [
    "name = ['A','B','C']\n",
    "name1 = name # shallow Copy\n",
    "\n",
    "print(\"name\", name)\n",
    "print(\"name\", name1)\n",
    "\n",
    "#list value can be updated but you can't update tuple's value\n",
    "\n",
    "name[0] = 'Pakistan'\n",
    "print(\"name\", name)\n",
    "print(\"name\", name1)"
   ]
  },
  {
   "cell_type": "code",
   "execution_count": 10,
   "metadata": {},
   "outputs": [
    {
     "name": "stdout",
     "output_type": "stream",
     "text": [
      "name ['A', 'B', 'C']\n",
      "name ['A', 'B', 'C']\n",
      "name ['Pakistan', 'B', 'C']\n",
      "name ['A', 'B', 'C']\n"
     ]
    }
   ],
   "source": [
    "name = ['A','B','C']\n",
    "name1 = name.copy() # Deep Copy\n",
    "\n",
    "print(\"name\", name)\n",
    "print(\"name\", name1)\n",
    "\n",
    "#list value can be updated but you can't update tuple's value\n",
    "\n",
    "name[0] = \"Pakistan\"\n",
    "print(\"name\", name)\n",
    "print(\"name\", name1)"
   ]
  },
  {
   "cell_type": "code",
   "execution_count": 15,
   "metadata": {},
   "outputs": [
    {
     "data": {
      "text/plain": [
       "1"
      ]
     },
     "execution_count": 15,
     "metadata": {},
     "output_type": "execute_result"
    }
   ],
   "source": [
    "name = ['A','B','C']\n",
    "name.count(\"A\")"
   ]
  },
  {
   "cell_type": "code",
   "execution_count": 18,
   "metadata": {},
   "outputs": [
    {
     "name": "stdout",
     "output_type": "stream",
     "text": [
      "[1, 2, 3, 4, 5, 6]\n",
      "[1, 2, 3, 4, 5, 6]\n",
      "[1, 2, 3]\n",
      "[4, 5, 6]\n"
     ]
    }
   ],
   "source": [
    "l1 = [1,2,3]\n",
    "l2 = [4,5,6]\n",
    "print(l1+l2) # inline operation\n",
    "print(l1.__add__(l2))\n",
    "print(l1)\n",
    "print(l2)\n",
    "name.extend(\"A\")"
   ]
  },
  {
   "cell_type": "code",
   "execution_count": 19,
   "metadata": {},
   "outputs": [
    {
     "name": "stdout",
     "output_type": "stream",
     "text": [
      "[1, 2, 3]\n",
      "[4, 5, 6]\n",
      "[1, 2, 3, 4, 5, 6]\n",
      "[4, 5, 6]\n"
     ]
    }
   ],
   "source": [
    "l1 = [1,2,3]\n",
    "l2 = [4,5,6]\n",
    "\n",
    "print(l1)\n",
    "print(l2)\n",
    "\n",
    "l1.extend(l2) # in momory Operation\n",
    "\n",
    "print(l1)\n",
    "print(l2)\n"
   ]
  },
  {
   "cell_type": "code",
   "execution_count": 28,
   "metadata": {},
   "outputs": [
    {
     "name": "stdout",
     "output_type": "stream",
     "text": [
      "1\n",
      "0\n",
      "3\n",
      "7\n"
     ]
    }
   ],
   "source": [
    "l1 = [\"A\",\"B\",\"C\", \"A\", \"C\", \"E\",\"A\",\"\"\"p\"\"\"]\n",
    "print(l1.index('B'))\n",
    "print(l1.index('A'))\n",
    "print(l1.index('A', 1))\n",
    "print(l1.index('p', 1))"
   ]
  },
  {
   "cell_type": "code",
   "execution_count": 30,
   "metadata": {},
   "outputs": [
    {
     "name": "stdout",
     "output_type": "stream",
     "text": [
      "['C', 'B', 'A', 'A', 'B', 'C']\n",
      "['C', 'D', 'B', 'A', 'A', 'B', 'C']\n"
     ]
    }
   ],
   "source": [
    "l1 = ['A', 'B','C']\n",
    "l1.insert(0, \"A\")\n",
    "l1.insert(0, \"B\")\n",
    "l1.insert(0, \"C\")\n",
    "\n",
    "print(l1)\n",
    "l1.insert(1, \"D\")\n",
    "print(l1)"
   ]
  },
  {
   "cell_type": "code",
   "execution_count": 44,
   "metadata": {},
   "outputs": [
    {
     "ename": "SyntaxError",
     "evalue": "invalid syntax (<ipython-input-44-5c960fe892d7>, line 7)",
     "output_type": "error",
     "traceback": [
      "\u001b[1;36m  File \u001b[1;32m\"<ipython-input-44-5c960fe892d7>\"\u001b[1;36m, line \u001b[1;32m7\u001b[0m\n\u001b[1;33m    l1.append(del name[-1]) # Return fuction\u001b[0m\n\u001b[1;37m                ^\u001b[0m\n\u001b[1;31mSyntaxError\u001b[0m\u001b[1;31m:\u001b[0m invalid syntax\n"
     ]
    }
   ],
   "source": [
    "#Using Delete Fuction\n",
    "\n",
    "name = ['A', 'B','C','C', 'D']\n",
    "\n",
    "del name[-1] # Return fuction\n",
    "del name[-1] # Return fuction\n",
    "del name[-1] # Return fuction\n",
    "\n",
    "\n",
    "#A B\n",
    "name"
   ]
  },
  {
   "cell_type": "code",
   "execution_count": 53,
   "metadata": {},
   "outputs": [
    {
     "name": "stdout",
     "output_type": "stream",
     "text": [
      "['A', 'B', 'C', 'C', 'D']\n",
      "['D', 'C', 'C']\n",
      "['A', 'B']\n"
     ]
    }
   ],
   "source": [
    "#Using Pop Fuction\n",
    "\n",
    "l1 = []\n",
    "\n",
    "name = ['A', 'B','C','C', 'D']\n",
    "\n",
    "print(name) #original list\n",
    "\n",
    "l1.append(name.pop()) # Return fuction\n",
    "l1.append(name.pop()) # Return fuction\n",
    "l1.append(name.pop()) # Return fuction\n",
    "\n",
    "#A B\n",
    "\n",
    "print(l1) # poped elements\n",
    "print(name) # remaining elements"
   ]
  },
  {
   "cell_type": "code",
   "execution_count": 54,
   "metadata": {},
   "outputs": [
    {
     "name": "stdout",
     "output_type": "stream",
     "text": [
      "Pakistan\n",
      "None\n"
     ]
    }
   ],
   "source": [
    "a = print('Pakistan')\n",
    "print(a)"
   ]
  },
  {
   "cell_type": "code",
   "execution_count": 55,
   "metadata": {},
   "outputs": [
    {
     "name": "stdout",
     "output_type": "stream",
     "text": [
      "4\n"
     ]
    }
   ],
   "source": [
    "l1 = [1,2,3,4]\n",
    "a = l1.pop() # by default remove from last\n",
    "print(a)"
   ]
  },
  {
   "cell_type": "code",
   "execution_count": 56,
   "metadata": {},
   "outputs": [
    {
     "name": "stdout",
     "output_type": "stream",
     "text": [
      "C\n"
     ]
    }
   ],
   "source": [
    "#remove value by index\n",
    "\n",
    "l1 = [\"A\",\"B\",\"C\",\"D\"]\n",
    "a = l1.pop(2) #remove from perticular index\n",
    "print(a)"
   ]
  },
  {
   "cell_type": "code",
   "execution_count": 57,
   "metadata": {},
   "outputs": [
    {
     "name": "stdout",
     "output_type": "stream",
     "text": [
      "B\n"
     ]
    }
   ],
   "source": [
    "l1 = [\"A\",\"B\",\"C\",\"D\"]\n",
    "a = l1.pop(l1.index(\"B\"))\n",
    "print(a)\n"
   ]
  },
  {
   "cell_type": "code",
   "execution_count": 60,
   "metadata": {},
   "outputs": [
    {
     "name": "stdout",
     "output_type": "stream",
     "text": [
      "['A', 'B', 'C', 'B', 'D']\n",
      "['A', 'C', 'B', 'D']\n"
     ]
    }
   ],
   "source": [
    "# use Remove fuction to remove element by \"Value\"\n",
    "\n",
    "\n",
    "l1 = [\"A\",\"B\",\"C\",\"B\",\"D\"]\n",
    "print(l1)\n",
    "a = l1.remove(\"B\") # Non Return fuction - Void type\n",
    "\n",
    "print(l1)\n"
   ]
  },
  {
   "cell_type": "code",
   "execution_count": 66,
   "metadata": {},
   "outputs": [
    {
     "name": "stdout",
     "output_type": "stream",
     "text": [
      "['A', 'B', 'C', 'B', 'D']\n",
      "['D', 'B', 'C', 'B', 'A']\n",
      "['A', 'B', 'B', 'C', 'D']\n",
      "['D', 'C', 'B', 'B', 'A']\n"
     ]
    }
   ],
   "source": [
    "\n",
    "l1 = [\"A\",\"B\",\"C\",\"B\",\"D\"]\n",
    "\n",
    "print(l1)\n",
    "\n",
    "l1.reverse() # reverse the list as it is with any order\n",
    "print(l1)\n",
    "\n",
    "l1.sort() # sort in accending order\n",
    "print(l1)\n",
    "\n",
    "l1.sort(reverse=True) # sort with decending order\n",
    "print(l1)\n",
    "\n"
   ]
  },
  {
   "cell_type": "code",
   "execution_count": 73,
   "metadata": {},
   "outputs": [
    {
     "name": "stdout",
     "output_type": "stream",
     "text": [
      "['A', 'B', 'C', 'B', 'D', 'Fazal']\n",
      "['A', 'B', 'C', 'B', 'D', 'Fazal']\n",
      "['A', 'B', 'C', 'B', 'D', 'Fazal']\n"
     ]
    }
   ],
   "source": [
    "l1 = [\"A\",\"B\",\"C\",\"B\",\"D\"]\n",
    "\n",
    "l1.append(\"Fazal\")\n",
    "print(l1)\n",
    "\n",
    "\n",
    "\n",
    "\n",
    "l2 = l1.copy()\n",
    "print(l1)\n",
    "print(l2)"
   ]
  },
  {
   "cell_type": "code",
   "execution_count": 74,
   "metadata": {},
   "outputs": [
    {
     "data": {
      "text/plain": [
       "['A', 'B', 'C', 'Z', 'Y', 'X', 1, 2, 3, 4]"
      ]
     },
     "execution_count": 74,
     "metadata": {},
     "output_type": "execute_result"
    }
   ],
   "source": [
    "l1 = [\"A\",\"B\",\"C\",\"Z\",\"Y\",\"X\"]\n",
    "l1.__add__([1,2,3,4])"
   ]
  },
  {
   "cell_type": "code",
   "execution_count": 76,
   "metadata": {},
   "outputs": [
    {
     "data": {
      "text/plain": [
       "list"
      ]
     },
     "execution_count": 76,
     "metadata": {},
     "output_type": "execute_result"
    }
   ],
   "source": [
    "l1 = [\"A\",\"B\",\"C\",\"Z\",\"Y\",\"X\"]\n",
    "l1.__class__"
   ]
  },
  {
   "cell_type": "code",
   "execution_count": 77,
   "metadata": {},
   "outputs": [
    {
     "data": {
      "text/plain": [
       "True"
      ]
     },
     "execution_count": 77,
     "metadata": {},
     "output_type": "execute_result"
    }
   ],
   "source": [
    "l1 = [\"A\",\"B\",\"C\",\"Z\",\"Y\",\"X\"]\n",
    "l1.__contains__(\"A\")"
   ]
  },
  {
   "cell_type": "code",
   "execution_count": 81,
   "metadata": {},
   "outputs": [
    {
     "ename": "TypeError",
     "evalue": "expected 1 arguments, got 0",
     "output_type": "error",
     "traceback": [
      "\u001b[1;31m---------------------------------------------------------------------------\u001b[0m",
      "\u001b[1;31mTypeError\u001b[0m                                 Traceback (most recent call last)",
      "\u001b[1;32m<ipython-input-81-054df18450d7>\u001b[0m in \u001b[0;36m<module>\u001b[1;34m\u001b[0m\n\u001b[0;32m      1\u001b[0m \u001b[0ml1\u001b[0m \u001b[1;33m=\u001b[0m \u001b[1;33m[\u001b[0m\u001b[1;34m\"A\"\u001b[0m\u001b[1;33m,\u001b[0m\u001b[1;34m\"B\"\u001b[0m\u001b[1;33m,\u001b[0m\u001b[1;34m\"C\"\u001b[0m\u001b[1;33m,\u001b[0m\u001b[1;34m\"Z\"\u001b[0m\u001b[1;33m,\u001b[0m\u001b[1;34m\"Y\"\u001b[0m\u001b[1;33m,\u001b[0m\u001b[1;34m\"X\"\u001b[0m\u001b[1;33m]\u001b[0m\u001b[1;33m\u001b[0m\u001b[1;33m\u001b[0m\u001b[0m\n\u001b[1;32m----> 2\u001b[1;33m \u001b[0ml1\u001b[0m\u001b[1;33m.\u001b[0m\u001b[0m__delattr__\u001b[0m\u001b[1;33m(\u001b[0m\u001b[1;33m)\u001b[0m\u001b[1;33m\u001b[0m\u001b[1;33m\u001b[0m\u001b[0m\n\u001b[0m",
      "\u001b[1;31mTypeError\u001b[0m: expected 1 arguments, got 0"
     ]
    }
   ],
   "source": [
    "l1 = [\"A\",\"B\",\"C\",\"Z\",\"Y\",\"X\"]\n",
    "l1.__delattr__()"
   ]
  },
  {
   "cell_type": "code",
   "execution_count": 80,
   "metadata": {},
   "outputs": [
    {
     "data": {
      "text/plain": [
       "['A', 'C', 'Z', 'Y', 'X']"
      ]
     },
     "execution_count": 80,
     "metadata": {},
     "output_type": "execute_result"
    }
   ],
   "source": [
    "l1 = [\"A\",\"B\",\"C\",\"Z\",\"Y\",\"X\"]\n",
    "l1.__delitem__(1)\n",
    "l1"
   ]
  },
  {
   "cell_type": "code",
   "execution_count": 82,
   "metadata": {},
   "outputs": [
    {
     "data": {
      "text/plain": [
       "'Built-in mutable sequence.\\n\\nIf no argument is given, the constructor creates a new empty list.\\nThe argument must be an iterable if specified.'"
      ]
     },
     "execution_count": 82,
     "metadata": {},
     "output_type": "execute_result"
    }
   ],
   "source": [
    "l1 = [\"A\",\"B\",\"C\",\"Z\",\"Y\",\"X\"]\n",
    "l1.__doc__"
   ]
  },
  {
   "cell_type": "code",
   "execution_count": 89,
   "metadata": {},
   "outputs": [
    {
     "name": "stdout",
     "output_type": "stream",
     "text": [
      "True\n",
      "True\n",
      "3\n"
     ]
    }
   ],
   "source": [
    "l1 = [5,8,9]\n",
    "l2 = [3,2,1]\n",
    "l3 = [7,8,9]\n",
    "l4 = [5,8,9]\n",
    "\n",
    "print(l1.__eq__(l4))\n",
    "print(l2.__ge__(l2))\n",
    "print(l1.__len__())\n"
   ]
  },
  {
   "cell_type": "markdown",
   "metadata": {},
   "source": [
    "# Tuple"
   ]
  },
  {
   "cell_type": "code",
   "execution_count": 90,
   "metadata": {},
   "outputs": [
    {
     "data": {
      "text/plain": [
       "'A'"
      ]
     },
     "execution_count": 90,
     "metadata": {},
     "output_type": "execute_result"
    }
   ],
   "source": [
    "l1 = (\"A\",\"B\",\"C\")\n",
    "l1[0]"
   ]
  },
  {
   "cell_type": "code",
   "execution_count": 93,
   "metadata": {},
   "outputs": [
    {
     "name": "stdout",
     "output_type": "stream",
     "text": [
      "('!', 'B', 'C')\n",
      "('Pakistan', 'B', 'C')\n"
     ]
    }
   ],
   "source": [
    "l1 = (\"!\",\"B\",\"C\")\n",
    "print(l1)\n",
    "l1 =(\"Pakistan\", \"B\",\"C\")\n",
    "\n",
    "print(l1)"
   ]
  },
  {
   "cell_type": "markdown",
   "metadata": {},
   "source": [
    "# Loop (While, For)"
   ]
  },
  {
   "cell_type": "raw",
   "metadata": {},
   "source": [
    "# counter\n",
    "# Logic\n",
    "#increment / Decrement"
   ]
  },
  {
   "cell_type": "code",
   "execution_count": 96,
   "metadata": {},
   "outputs": [
    {
     "name": "stdout",
     "output_type": "stream",
     "text": [
      "Pakistan:  1\n",
      "Pakistan:  2\n",
      "Pakistan:  3\n",
      "Pakistan:  4\n",
      "Pakistan:  5\n",
      "Pakistan:  6\n",
      "Pakistan:  7\n",
      "Pakistan:  8\n",
      "Pakistan:  9\n",
      "Pakistan:  10\n"
     ]
    }
   ],
   "source": [
    "counter = 1\n",
    "while counter <= 10:\n",
    "    print(\"Pakistan: \", counter)\n",
    "    counter +=1"
   ]
  },
  {
   "cell_type": "code",
   "execution_count": 97,
   "metadata": {},
   "outputs": [
    {
     "name": "stdout",
     "output_type": "stream",
     "text": [
      "Pakistan:  1000\n",
      "Pakistan:  999\n",
      "Pakistan:  998\n",
      "Pakistan:  997\n",
      "Pakistan:  996\n",
      "Pakistan:  995\n",
      "Pakistan:  994\n",
      "Pakistan:  993\n",
      "Pakistan:  992\n",
      "Pakistan:  991\n",
      "Pakistan:  990\n"
     ]
    }
   ],
   "source": [
    "counter = 1000\n",
    "while counter >= 990:\n",
    "    print(\"Pakistan: \", counter)\n",
    "    counter -=1"
   ]
  },
  {
   "cell_type": "code",
   "execution_count": 99,
   "metadata": {},
   "outputs": [
    {
     "data": {
      "text/plain": [
       "[1, 2, 3, 4, 5, 6, 7, 8, 9, 10]"
      ]
     },
     "execution_count": 99,
     "metadata": {},
     "output_type": "execute_result"
    }
   ],
   "source": [
    "list(range(1,11))"
   ]
  },
  {
   "cell_type": "code",
   "execution_count": 103,
   "metadata": {},
   "outputs": [
    {
     "name": "stdout",
     "output_type": "stream",
     "text": [
      "Number: 1\n",
      "Number: 2\n",
      "Number: 3\n",
      "Number: 4\n",
      "Number: 5\n",
      "Number: 6\n",
      "Number: 7\n",
      "Number: 8\n",
      "Number: 9\n",
      "Number: 10\n"
     ]
    }
   ],
   "source": [
    "for i in range(1,11):\n",
    "    print(\"Number:\", i)"
   ]
  },
  {
   "cell_type": "code",
   "execution_count": 105,
   "metadata": {},
   "outputs": [
    {
     "data": {
      "text/plain": [
       "['Number1',\n",
       " 'Number2',\n",
       " 'Number3',\n",
       " 'Number4',\n",
       " 'Number5',\n",
       " 'Number6',\n",
       " 'Number7',\n",
       " 'Number8',\n",
       " 'Number9',\n",
       " 'Number10']"
      ]
     },
     "execution_count": 105,
     "metadata": {},
     "output_type": "execute_result"
    }
   ],
   "source": [
    "# List Comprehensive\n",
    "\n",
    "[\"Number\"+str (i) for i in range(1,11)]"
   ]
  },
  {
   "cell_type": "code",
   "execution_count": 112,
   "metadata": {},
   "outputs": [
    {
     "data": {
      "text/plain": [
       "['2 X2',\n",
       " '2 X4',\n",
       " '2 X6',\n",
       " '2 X8',\n",
       " '2 X10',\n",
       " '2 X12',\n",
       " '2 X14',\n",
       " '2 X16',\n",
       " '2 X18',\n",
       " '2 X20']"
      ]
     },
     "execution_count": 112,
     "metadata": {},
     "output_type": "execute_result"
    }
   ],
   "source": [
    "[\"Table: \"+str (i*2) for i in range(1,11)]"
   ]
  },
  {
   "cell_type": "code",
   "execution_count": 144,
   "metadata": {},
   "outputs": [
    {
     "name": "stdout",
     "output_type": "stream",
     "text": [
      "Enter Table to Print: 4\n",
      "1X1=1\t2X1=2\t3X1=3\t4X1=4\t\n",
      "1X2=2\t2X2=4\t3X2=6\t4X2=8\t\n",
      "1X3=3\t2X3=6\t3X3=9\t4X3=12\t\n",
      "1X4=4\t2X4=8\t3X4=12\t4X4=16\t\n",
      "1X5=5\t2X5=10\t3X5=15\t4X5=20\t\n",
      "1X6=6\t2X6=12\t3X6=18\t4X6=24\t\n",
      "1X7=7\t2X7=14\t3X7=21\t4X7=28\t\n",
      "1X8=8\t2X8=16\t3X8=24\t4X8=32\t\n",
      "1X9=9\t2X9=18\t3X9=27\t4X9=36\t\n",
      "1X10=10\t2X10=20\t3X10=30\t4X10=40\t\n"
     ]
    }
   ],
   "source": [
    "user = int(input(\"Enter Table to Print: \" ))\n",
    "\n",
    "for r in range(1, 11):\n",
    "    for t in range(1, user+1):\n",
    "        print(f'{t}X{r}={r*t}', end='\\t')\n",
    "        \n",
    "    print()\n",
    "    \n",
    "\n",
    "   "
   ]
  },
  {
   "cell_type": "code",
   "execution_count": null,
   "metadata": {},
   "outputs": [],
   "source": [
    "user = int(input(\"Enter Table to Print: \" ))\n",
    "tableStart = int(input(\"Enter Table to start Print: \" ))\n",
    "tableEnd = int(input(\"Enter Table to End Print: \" ))\n",
    "\n",
    "for r in range(tableStart, tableEnd):\n",
    "    for t in range(1, user+1):\n",
    "        print(f'{t}X{r}={r*t}', end='\\t')\n",
    "        \n",
    "    print()\n",
    "    \n"
   ]
  },
  {
   "cell_type": "code",
   "execution_count": null,
   "metadata": {},
   "outputs": [],
   "source": []
  }
 ],
 "metadata": {
  "kernelspec": {
   "display_name": "Python 3",
   "language": "python",
   "name": "python3"
  },
  "language_info": {
   "codemirror_mode": {
    "name": "ipython",
    "version": 3
   },
   "file_extension": ".py",
   "mimetype": "text/x-python",
   "name": "python",
   "nbconvert_exporter": "python",
   "pygments_lexer": "ipython3",
   "version": "3.7.3"
  }
 },
 "nbformat": 4,
 "nbformat_minor": 2
}
